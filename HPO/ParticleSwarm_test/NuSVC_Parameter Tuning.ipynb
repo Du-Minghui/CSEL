{
 "cells": [
  {
   "cell_type": "code",
   "execution_count": 1,
   "id": "c17015b4-7fd3-4082-9d56-aad3ff5eb236",
   "metadata": {},
   "outputs": [],
   "source": [
    "import pandas as pd\n",
    "import numpy as np\n",
    "from sklearn.model_selection import KFold\n",
    "from sklearn import svm, linear_model, ensemble\n",
    "from sklearn import model_selection\n",
    "from sklearn.metrics import accuracy_score\n",
    "import warnings\n",
    "warnings.filterwarnings(\"ignore\")"
   ]
  },
  {
   "cell_type": "code",
   "execution_count": 2,
   "id": "a648796d-fc7c-40e6-b680-5af3b257d14f",
   "metadata": {},
   "outputs": [],
   "source": [
    "from scipy.stats import randint, uniform\n",
    "from pyswarm import pso"
   ]
  },
  {
   "cell_type": "code",
   "execution_count": 3,
   "id": "87ed20ec-3127-46ed-88f2-c791c4ab01e5",
   "metadata": {},
   "outputs": [],
   "source": [
    "labels = pd.read_csv(\"antibacterial_lable.csv\", index_col=0 )\n",
    "data = pd.read_csv(\"mibig(antismash).csv\", index_col=0 )"
   ]
  },
  {
   "cell_type": "code",
   "execution_count": 4,
   "id": "4cd99d45-7f80-4a92-95bb-c6b24d7e1912",
   "metadata": {},
   "outputs": [],
   "source": [
    "def get_sample_responses(vectors, responses):\n",
    "    samples = vectors\n",
    "    index = list(set(samples.index).intersection(set(labels.index)))\n",
    "    responses = responses.loc[index]\n",
    "    samples = samples.loc[index]\n",
    "    return samples, responses"
   ]
  },
  {
   "cell_type": "code",
   "execution_count": 5,
   "id": "a8370ebf-547b-41d6-a87e-f209134c7940",
   "metadata": {},
   "outputs": [],
   "source": [
    "X , y = get_sample_responses(data, labels)\n",
    "bgc_ids = pd.Series(y.index)"
   ]
  },
  {
   "cell_type": "code",
   "execution_count": 6,
   "id": "a3ac7127-53e0-4061-ae12-62b41bc787d2",
   "metadata": {},
   "outputs": [],
   "source": [
    "def objective(params):\n",
    "\n",
    "    nu, kernel, shrinking, class_weight = params\n",
    "\n",
    "    if nu <= 0:\n",
    "        nu = 0.00001\n",
    "    elif nu > 0.5:\n",
    "        nu = 0.5\n",
    "\n",
    "    kernel = ['poly', 'rbf', 'sigmoid'][int(kernel)]\n",
    "    shrinking = [False, True][int(shrinking)]\n",
    "    class_weight = ['balanced',None][int(class_weight)]\n",
    "\n",
    "    clf = svm.NuSVC(\n",
    "        nu=nu,\n",
    "        kernel=kernel,\n",
    "        shrinking=shrinking,\n",
    "        class_weight=class_weight,\n",
    "        probability = True)\n",
    "     \n",
    "    acc_kf = []\n",
    "    \n",
    "    cv = KFold(n_splits=5,random_state=0,shuffle=True)\n",
    "    for i, (id_train, id_val) in enumerate(cv.split(bgc_ids)):\n",
    "        train_ids, val_ids = bgc_ids[id_train], bgc_ids[id_val]\n",
    "        X_train, X_val = X.loc[train_ids].values, X.loc[val_ids].values\n",
    "        y_train, y_val = y.loc[train_ids].values, y.loc[val_ids].values\n",
    "        #print('Train:', len(X_train), 'Test:', len(X_val))\n",
    "    \n",
    "        clf.fit(X_train, y_train)\n",
    "        pred = clf.predict(X_val)\n",
    "    \n",
    "        acc = accuracy_score(pred, y_val)\n",
    "        acc_kf.append(acc)\n",
    "        \n",
    "    acc_kf = np.array(acc_kf).mean()\n",
    "    \n",
    "    return -acc_kf"
   ]
  },
  {
   "cell_type": "code",
   "execution_count": 7,
   "id": "02e4ef3d-7d67-495f-b4b9-a81d300518a5",
   "metadata": {},
   "outputs": [],
   "source": [
    "lb = [0.0, 0, 0, 0] \n",
    "ub = [0.5, 2, 1, 1]"
   ]
  },
  {
   "cell_type": "code",
   "execution_count": 8,
   "id": "3bc293b9-850c-4f2e-8117-6a23348f2341",
   "metadata": {},
   "outputs": [
    {
     "name": "stdout",
     "output_type": "stream",
     "text": [
      "Stopping search: maximum iterations reached --> 1\n",
      "CPU times: user 1h 4min 35s, sys: 9.18 s, total: 1h 4min 44s\n",
      "Wall time: 1h 4min 44s\n"
     ]
    }
   ],
   "source": [
    "%%time\n",
    "best_params, best_score = pso(objective, lb, ub, swarmsize=50, maxiter=1)"
   ]
  },
  {
   "cell_type": "code",
   "execution_count": null,
   "id": "8a94dbe0-d0e5-4b95-ad56-366936637b35",
   "metadata": {},
   "outputs": [],
   "source": []
  }
 ],
 "metadata": {
  "kernelspec": {
   "display_name": "Python 3 (ipykernel)",
   "language": "python",
   "name": "python3"
  },
  "language_info": {
   "codemirror_mode": {
    "name": "ipython",
    "version": 3
   },
   "file_extension": ".py",
   "mimetype": "text/x-python",
   "name": "python",
   "nbconvert_exporter": "python",
   "pygments_lexer": "ipython3",
   "version": "3.9.19"
  }
 },
 "nbformat": 4,
 "nbformat_minor": 5
}
