{
 "cells": [
  {
   "cell_type": "code",
   "execution_count": 1,
   "id": "f58cc8fe-149c-4f4d-839a-02322f4da2cd",
   "metadata": {},
   "outputs": [],
   "source": [
    "import pandas as pd\n",
    "import numpy as np\n",
    "from sklearn.model_selection import KFold\n",
    "from sklearn import svm, linear_model, ensemble\n",
    "from sklearn import model_selection\n",
    "from sklearn.metrics import accuracy_score\n",
    "import warnings\n",
    "warnings.filterwarnings(\"ignore\")"
   ]
  },
  {
   "cell_type": "code",
   "execution_count": 2,
   "id": "60b15c72-107b-407d-a4ab-2f515c55a597",
   "metadata": {},
   "outputs": [],
   "source": [
    "from scipy.stats import randint, uniform\n",
    "from pyswarm import pso"
   ]
  },
  {
   "cell_type": "code",
   "execution_count": 3,
   "id": "1d66d184-9ac5-48ed-9263-0e7d60402d2b",
   "metadata": {},
   "outputs": [],
   "source": [
    "labels = pd.read_csv(\"lable(3.1).csv\", index_col=0 )\n",
    "data = pd.read_csv(\"mibig(3.1).csv\", index_col=0 )"
   ]
  },
  {
   "cell_type": "code",
   "execution_count": 4,
   "id": "1866da1b-2366-4001-9091-8684fe6bbc89",
   "metadata": {},
   "outputs": [],
   "source": [
    "def get_sample_responses(vectors, responses):\n",
    "    samples = vectors\n",
    "    index = list(set(samples.index).intersection(set(labels.index)))\n",
    "    responses = responses.loc[index]\n",
    "    samples = samples.loc[index]\n",
    "    return samples, responses"
   ]
  },
  {
   "cell_type": "code",
   "execution_count": 5,
   "id": "8c8d264a-06ee-4df9-a07d-d27b83a84919",
   "metadata": {},
   "outputs": [],
   "source": [
    "X , y = get_sample_responses(data, labels)\n",
    "bgc_ids = pd.Series(y.index)"
   ]
  },
  {
   "cell_type": "code",
   "execution_count": 6,
   "id": "55c95320-7999-44f5-9a8e-6dca9a6e7ecc",
   "metadata": {},
   "outputs": [],
   "source": [
    "def objective(params):\n",
    "\n",
    "    n_estimators, criterion, min_samples_split, min_samples_leaf, max_features, class_weight = params\n",
    "\n",
    "\n",
    "    n_estimators = int(n_estimators)\n",
    "    criterion = ['gini','entropy'][int(criterion)]\n",
    "    min_samples_split = int(min_samples_split)\n",
    "    min_samples_leaf = int(min_samples_leaf)\n",
    "    max_features = ['auto', 'sqrt', 'log2'][int(max_features)]\n",
    "    class_weight = ['balanced','balanced_subsample'][int(class_weight)]\n",
    "\n",
    "    clf = ensemble.RandomForestClassifier(\n",
    "        n_estimators=int(n_estimators),\n",
    "        criterion=criterion,\n",
    "        min_samples_split=int(min_samples_split),\n",
    "        min_samples_leaf=int(min_samples_leaf),\n",
    "        max_features=max_features,\n",
    "        class_weight=class_weight,\n",
    "        bootstrap=False,\n",
    "        n_jobs=-1,random_state=42)\n",
    "     \n",
    "    acc_kf = []\n",
    "    \n",
    "    cv = KFold(n_splits=5,random_state=0,shuffle=True)\n",
    "    for i, (id_train, id_val) in enumerate(cv.split(bgc_ids)):\n",
    "        train_ids, val_ids = bgc_ids[id_train], bgc_ids[id_val]\n",
    "        X_train, X_val = X.loc[train_ids].values, X.loc[val_ids].values\n",
    "        y_train, y_val = y.loc[train_ids].values, y.loc[val_ids].values\n",
    "        #print('Train:', len(X_train), 'Test:', len(X_val))\n",
    "    \n",
    "        clf.fit(X_train, y_train)\n",
    "        pred = clf.predict(X_val)\n",
    "    \n",
    "        acc = accuracy_score(pred, y_val)\n",
    "        acc_kf.append(acc)\n",
    "        \n",
    "    acc_kf = np.array(acc_kf).mean()\n",
    "    \n",
    "    return -acc_kf"
   ]
  },
  {
   "cell_type": "code",
   "execution_count": 7,
   "id": "3fa0f9fc-b20e-4418-8bce-6fdcacfa307a",
   "metadata": {},
   "outputs": [],
   "source": [
    "lb = [1, 0, 2, 1, 0, 0] \n",
    "ub = [200, 1, 50, 10, 2, 1] "
   ]
  },
  {
   "cell_type": "code",
   "execution_count": 8,
   "id": "a37636e7-37da-4a3f-8c05-ce52b9b55391",
   "metadata": {},
   "outputs": [
    {
     "name": "stdout",
     "output_type": "stream",
     "text": [
      "Stopping search: maximum iterations reached --> 1\n",
      "CPU times: user 4min 7s, sys: 14.2 s, total: 4min 21s\n",
      "Wall time: 1min 20s\n"
     ]
    }
   ],
   "source": [
    "%%time\n",
    "best_params, best_score = pso(objective, lb, ub, swarmsize=50, maxiter=1)"
   ]
  },
  {
   "cell_type": "code",
   "execution_count": null,
   "id": "a1a49986-9923-4f76-8948-2b39d3436f1e",
   "metadata": {},
   "outputs": [],
   "source": []
  }
 ],
 "metadata": {
  "kernelspec": {
   "display_name": "Python 3 (ipykernel)",
   "language": "python",
   "name": "python3"
  },
  "language_info": {
   "codemirror_mode": {
    "name": "ipython",
    "version": 3
   },
   "file_extension": ".py",
   "mimetype": "text/x-python",
   "name": "python",
   "nbconvert_exporter": "python",
   "pygments_lexer": "ipython3",
   "version": "3.9.19"
  }
 },
 "nbformat": 4,
 "nbformat_minor": 5
}
