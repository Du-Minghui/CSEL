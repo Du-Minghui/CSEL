{
 "cells": [
  {
   "cell_type": "code",
   "execution_count": 1,
   "id": "5080387c-fc13-4949-94be-3f075ae67fec",
   "metadata": {},
   "outputs": [],
   "source": [
    "import pandas as pd\n",
    "import numpy as np\n",
    "from sklearn.model_selection import KFold\n",
    "from sklearn import svm, linear_model, ensemble\n",
    "from sklearn import model_selection\n",
    "from sklearn.metrics import accuracy_score\n",
    "import warnings\n",
    "warnings.filterwarnings(\"ignore\")"
   ]
  },
  {
   "cell_type": "code",
   "execution_count": 2,
   "id": "4577b8e3-de7d-4333-8cb8-614ed36eb95b",
   "metadata": {},
   "outputs": [],
   "source": [
    "from scipy.stats import randint, uniform\n",
    "from pyswarm import pso"
   ]
  },
  {
   "cell_type": "code",
   "execution_count": 3,
   "id": "16a61268-c7d1-4ca3-99c9-abc6c6327b62",
   "metadata": {},
   "outputs": [],
   "source": [
    "labels = pd.read_csv(\"antibacterial_lable.csv\", index_col=0 )\n",
    "data = pd.read_csv(\"mibig(antismash).csv\", index_col=0 )"
   ]
  },
  {
   "cell_type": "code",
   "execution_count": 4,
   "id": "beececbb-2c3c-4d3d-a246-076800421b40",
   "metadata": {},
   "outputs": [],
   "source": [
    "def get_sample_responses(vectors, responses):\n",
    "    samples = vectors\n",
    "    index = list(set(samples.index).intersection(set(labels.index)))\n",
    "    responses = responses.loc[index]\n",
    "    samples = samples.loc[index]\n",
    "    return samples, responses"
   ]
  },
  {
   "cell_type": "code",
   "execution_count": 5,
   "id": "32ff9732-0369-41a4-8916-9bf64705453c",
   "metadata": {},
   "outputs": [],
   "source": [
    "X , y = get_sample_responses(data, labels)\n",
    "bgc_ids = pd.Series(y.index)"
   ]
  },
  {
   "cell_type": "code",
   "execution_count": 6,
   "id": "48d1a22b-1c8a-419b-ab58-24a6b63363a2",
   "metadata": {},
   "outputs": [],
   "source": [
    "def objective(params):\n",
    "\n",
    "    n_estimators, criterion, min_samples_split, min_samples_leaf, max_features, class_weight = params\n",
    "    \n",
    "    criterion = ['gini','entropy'][int(criterion)]\n",
    "    max_features = ['auto', 'sqrt', 'log2'][int(max_features)]\n",
    "    class_weight = ['balanced','balanced_subsample'][int(class_weight)]\n",
    "\n",
    "    clf = ensemble.ExtraTreesClassifier(\n",
    "        n_estimators=int(n_estimators),\n",
    "        criterion=criterion,\n",
    "        min_samples_split=int(min_samples_split),\n",
    "        min_samples_leaf=int(min_samples_leaf),\n",
    "        max_features=max_features,\n",
    "        class_weight=class_weight,\n",
    "        bootstrap=False,\n",
    "        n_jobs=-1)\n",
    "     \n",
    "    acc_kf = []\n",
    "    \n",
    "    cv = KFold(n_splits=5,random_state=0,shuffle=True)\n",
    "    for i, (id_train, id_val) in enumerate(cv.split(bgc_ids)):\n",
    "        train_ids, val_ids = bgc_ids[id_train], bgc_ids[id_val]\n",
    "        X_train, X_val = X.loc[train_ids].values, X.loc[val_ids].values\n",
    "        y_train, y_val = y.loc[train_ids].values, y.loc[val_ids].values\n",
    "        #print('Train:', len(X_train), 'Test:', len(X_val))\n",
    "    \n",
    "        clf.fit(X_train, y_train)\n",
    "        pred = clf.predict(X_val)\n",
    "    \n",
    "        acc = accuracy_score(pred, y_val)\n",
    "        acc_kf.append(acc)\n",
    "        \n",
    "    acc_kf = np.array(acc_kf).mean()\n",
    "    \n",
    "    return -acc_kf"
   ]
  },
  {
   "cell_type": "code",
   "execution_count": 7,
   "id": "7e4f13fe-1d5d-4cb8-8f47-cd6fae80b862",
   "metadata": {},
   "outputs": [],
   "source": [
    "lb = [1, 0, 2, 1, 0, 0] \n",
    "ub = [200, 1, 50, 10, 2, 1] "
   ]
  },
  {
   "cell_type": "code",
   "execution_count": 8,
   "id": "be8989f3-9b93-4520-bede-3591bd989ca9",
   "metadata": {},
   "outputs": [
    {
     "name": "stdout",
     "output_type": "stream",
     "text": [
      "Stopping search: maximum iterations reached --> 1\n",
      "CPU times: user 4min 45s, sys: 17.9 s, total: 5min 3s\n",
      "Wall time: 1min 44s\n"
     ]
    }
   ],
   "source": [
    "%%time\n",
    "best_params, best_score = pso(objective, lb, ub, swarmsize=50, maxiter=1)"
   ]
  },
  {
   "cell_type": "code",
   "execution_count": null,
   "id": "06f9cddc-2c91-4911-9615-bba33ccdd746",
   "metadata": {},
   "outputs": [],
   "source": []
  }
 ],
 "metadata": {
  "kernelspec": {
   "display_name": "Python 3 (ipykernel)",
   "language": "python",
   "name": "python3"
  },
  "language_info": {
   "codemirror_mode": {
    "name": "ipython",
    "version": 3
   },
   "file_extension": ".py",
   "mimetype": "text/x-python",
   "name": "python",
   "nbconvert_exporter": "python",
   "pygments_lexer": "ipython3",
   "version": "3.9.19"
  }
 },
 "nbformat": 4,
 "nbformat_minor": 5
}
