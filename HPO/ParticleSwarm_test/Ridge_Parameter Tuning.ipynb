{
 "cells": [
  {
   "cell_type": "code",
   "execution_count": 1,
   "id": "68e9052e-883d-4810-a2e1-7b9b6d196114",
   "metadata": {},
   "outputs": [],
   "source": [
    "import pandas as pd\n",
    "import numpy as np\n",
    "from sklearn.model_selection import KFold\n",
    "from sklearn import svm, linear_model, ensemble\n",
    "from sklearn import model_selection\n",
    "from sklearn.metrics import accuracy_score\n",
    "import warnings\n",
    "warnings.filterwarnings(\"ignore\")"
   ]
  },
  {
   "cell_type": "code",
   "execution_count": 2,
   "id": "9932d12f-b610-4030-ac69-ea5c5e6fc4f9",
   "metadata": {},
   "outputs": [],
   "source": [
    "from scipy.stats import randint, uniform\n",
    "from pyswarm import pso"
   ]
  },
  {
   "cell_type": "code",
   "execution_count": 3,
   "id": "25bd0701-f12a-4c1e-80de-bffa1352f3b3",
   "metadata": {},
   "outputs": [],
   "source": [
    "labels = pd.read_csv(\"antibacterial_lable.csv\", index_col=0 )\n",
    "data = pd.read_csv(\"mibig(antismash).csv\", index_col=0 )"
   ]
  },
  {
   "cell_type": "code",
   "execution_count": 4,
   "id": "3aa60bef-08a3-4db3-bb1a-aac0fbd7204f",
   "metadata": {},
   "outputs": [],
   "source": [
    "def get_sample_responses(vectors, responses):\n",
    "    samples = vectors\n",
    "    index = list(set(samples.index).intersection(set(labels.index)))\n",
    "    responses = responses.loc[index]\n",
    "    samples = samples.loc[index]\n",
    "    return samples, responses"
   ]
  },
  {
   "cell_type": "code",
   "execution_count": 5,
   "id": "15a0751d-7a6e-40dc-90af-04e10e04af39",
   "metadata": {},
   "outputs": [],
   "source": [
    "X , y = get_sample_responses(data, labels)\n",
    "bgc_ids = pd.Series(y.index)"
   ]
  },
  {
   "cell_type": "code",
   "execution_count": 6,
   "id": "c662e40c-677a-4bd6-b15f-4d35ffa1f570",
   "metadata": {},
   "outputs": [],
   "source": [
    "def objective(params):\n",
    "    alpha, normalize, copy_X, class_weight, solver = params\n",
    "    \n",
    "\n",
    "    normalize =[False, True][int(normalize)]\n",
    "    copy_X = [False, True][int(copy_X)]\n",
    "    class_weight = ['balanced',None][int(class_weight)]\n",
    "    solver = ['auto', 'svd', 'cholesky', 'lsqr', 'sparse_cg', 'sag', 'saga'][int(solver)]\n",
    "    \n",
    "    clf = linear_model.RidgeClassifier(\n",
    "        alpha=alpha,\n",
    "        normalize=normalize,\n",
    "        copy_X=copy_X,\n",
    "        class_weight=class_weight,\n",
    "        solver=solver)\n",
    "    \n",
    "    acc_kf = []\n",
    "    \n",
    "    cv = KFold(n_splits=5,random_state=0,shuffle=True)\n",
    "    for i, (id_train, id_val) in enumerate(cv.split(bgc_ids)):\n",
    "        train_ids, val_ids = bgc_ids[id_train], bgc_ids[id_val]\n",
    "        X_train, X_val = X.loc[train_ids].values, X.loc[val_ids].values\n",
    "        y_train, y_val = y.loc[train_ids].values, y.loc[val_ids].values\n",
    "        #print('Train:', len(X_train), 'Test:', len(X_val))\n",
    "    \n",
    "        clf.fit(X_train, y_train)\n",
    "        pred = clf.predict(X_val)\n",
    "    \n",
    "        acc = accuracy_score(pred, y_val)\n",
    "        acc_kf.append(acc)\n",
    "        \n",
    "    acc_kf = np.array(acc_kf).mean()\n",
    "    \n",
    "    return -acc_kf"
   ]
  },
  {
   "cell_type": "code",
   "execution_count": 7,
   "id": "244be112-95a4-4320-ab9f-a668c5365d3b",
   "metadata": {},
   "outputs": [],
   "source": [
    "lb = [0.1, 0, 0, 0, 0] \n",
    "ub = [10.0, 1, 1, 1, 6]"
   ]
  },
  {
   "cell_type": "code",
   "execution_count": 8,
   "id": "c0330560-b5d8-4ece-8759-97e2fa15bf32",
   "metadata": {},
   "outputs": [
    {
     "name": "stdout",
     "output_type": "stream",
     "text": [
      "Stopping search: maximum iterations reached --> 1\n",
      "CPU times: user 30min 40s, sys: 27min 28s, total: 58min 8s\n",
      "Wall time: 13min 27s\n"
     ]
    }
   ],
   "source": [
    "%%time\n",
    "best_params, best_score = pso(objective, lb, ub, swarmsize=50, maxiter=1)"
   ]
  },
  {
   "cell_type": "code",
   "execution_count": null,
   "id": "0dd7a8ed-917b-41ae-ab27-cb887b10e06a",
   "metadata": {},
   "outputs": [],
   "source": []
  }
 ],
 "metadata": {
  "kernelspec": {
   "display_name": "Python 3 (ipykernel)",
   "language": "python",
   "name": "python3"
  },
  "language_info": {
   "codemirror_mode": {
    "name": "ipython",
    "version": 3
   },
   "file_extension": ".py",
   "mimetype": "text/x-python",
   "name": "python",
   "nbconvert_exporter": "python",
   "pygments_lexer": "ipython3",
   "version": "3.9.19"
  }
 },
 "nbformat": 4,
 "nbformat_minor": 5
}
