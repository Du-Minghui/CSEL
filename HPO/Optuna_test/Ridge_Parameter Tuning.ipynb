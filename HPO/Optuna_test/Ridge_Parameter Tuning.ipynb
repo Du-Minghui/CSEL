{
 "cells": [
  {
   "cell_type": "code",
   "execution_count": 1,
   "id": "b1eea5fd",
   "metadata": {},
   "outputs": [
    {
     "name": "stderr",
     "output_type": "stream",
     "text": [
      "/home/dmh/biosofts/miniconda3/envs/py39/lib/python3.9/site-packages/tqdm/auto.py:21: TqdmWarning: IProgress not found. Please update jupyter and ipywidgets. See https://ipywidgets.readthedocs.io/en/stable/user_install.html\n",
      "  from .autonotebook import tqdm as notebook_tqdm\n"
     ]
    }
   ],
   "source": [
    "import optuna\n",
    "from optuna.samplers import TPESampler "
   ]
  },
  {
   "cell_type": "code",
   "execution_count": 2,
   "id": "edce19bd",
   "metadata": {},
   "outputs": [],
   "source": [
    "import pandas as pd\n",
    "import numpy as np\n",
    "from sklearn.model_selection import KFold\n",
    "from sklearn import svm, linear_model, ensemble\n",
    "from sklearn import model_selection\n",
    "import warnings\n",
    "warnings.filterwarnings(\"ignore\")\n",
    "from sklearn.metrics import accuracy_score"
   ]
  },
  {
   "cell_type": "code",
   "execution_count": 3,
   "id": "8dbc8979",
   "metadata": {},
   "outputs": [],
   "source": [
    "labels = pd.read_csv(\"lable(3.1).csv\", index_col=0 )\n",
    "data = pd.read_csv(\"mibig(3.1).csv\", index_col=0 )"
   ]
  },
  {
   "cell_type": "code",
   "execution_count": 4,
   "id": "0b623f1b",
   "metadata": {},
   "outputs": [],
   "source": [
    "def get_sample_responses(vectors, responses):\n",
    "    samples = vectors\n",
    "    index = list(set(samples.index).intersection(set(labels.index)))\n",
    "    responses = responses.loc[index]\n",
    "    samples = samples.loc[index]\n",
    "    return samples, responses"
   ]
  },
  {
   "cell_type": "code",
   "execution_count": 5,
   "id": "59fbf99f",
   "metadata": {},
   "outputs": [],
   "source": [
    "X , y = get_sample_responses(data, labels)\n",
    "bgc_ids = pd.Series(y.index)"
   ]
  },
  {
   "cell_type": "code",
   "execution_count": 6,
   "id": "6681c506",
   "metadata": {},
   "outputs": [],
   "source": [
    "def objective(trial): \n",
    "    param = {\n",
    "        \"alpha\": trial.suggest_uniform('alpha',0.1,10.0),\n",
    "        \"normalize\": trial.suggest_categorical('normalize', [False, True]),\n",
    "        \"copy_X\": trial.suggest_categorical('copy_X', [False, True]),\n",
    "        \"class_weight\": trial.suggest_categorical('class_weight', ['balanced',None]),\n",
    "        \"solver\": trial.suggest_categorical('solver', ['auto','svd','cholesky','lsqr','sparse_cg','sag','saga']) \n",
    "    }\n",
    "    \n",
    "    clf = linear_model.RidgeClassifier(**param)\n",
    "    \n",
    "    acc_kf = []\n",
    "    \n",
    "    cv = KFold(n_splits=5,random_state=0,shuffle=True)\n",
    "    for i, (id_train, id_val) in enumerate(cv.split(bgc_ids)):\n",
    "        train_ids, val_ids = bgc_ids[id_train], bgc_ids[id_val]\n",
    "        X_train, X_val = X.loc[train_ids].values, X.loc[val_ids].values\n",
    "        y_train, y_val = y.loc[train_ids].values, y.loc[val_ids].values\n",
    "        #print('Train:', len(X_train), 'Test:', len(X_val))\n",
    "    \n",
    "        clf.fit(X_train, y_train)\n",
    "        pred = clf.predict(X_val)\n",
    "    \n",
    "        acc = accuracy_score(pred, y_val)\n",
    "        acc_kf.append(acc)\n",
    "        \n",
    "    acc_kf = np.array(acc_kf).mean()\n",
    "    \n",
    "    return acc_kf"
   ]
  },
  {
   "cell_type": "code",
   "execution_count": 7,
   "id": "cd16c6d4",
   "metadata": {},
   "outputs": [
    {
     "name": "stderr",
     "output_type": "stream",
     "text": [
      "[I 2024-07-01 04:39:35,458] A new study created in memory with name: no-name-dd5d284f-2d3e-468b-9ba2-3864dbf7f20e\n"
     ]
    }
   ],
   "source": [
    "study = optuna.create_study(direction=\"maximize\",sampler=TPESampler(),pruner=optuna.pruners.HyperbandPruner())"
   ]
  },
  {
   "cell_type": "code",
   "execution_count": 8,
   "id": "890da443",
   "metadata": {},
   "outputs": [
    {
     "name": "stderr",
     "output_type": "stream",
     "text": [
      "[I 2024-07-01 04:39:48,560] Trial 0 finished with value: 0.7177182539682538 and parameters: {'alpha': 3.029271990850269, 'normalize': True, 'copy_X': False, 'class_weight': 'balanced', 'solver': 'svd'}. Best is trial 0 with value: 0.7177182539682538.\n"
     ]
    },
    {
     "name": "stdout",
     "output_type": "stream",
     "text": [
      "CPU times: user 43.1 s, sys: 55.8 s, total: 1min 38s\n",
      "Wall time: 6.57 s\n"
     ]
    }
   ],
   "source": [
    "%%time\n",
    "study.optimize(objective, n_trials=1)"
   ]
  },
  {
   "cell_type": "code",
   "execution_count": null,
   "id": "58e52bfe-6525-4f50-b842-12bdfd475c39",
   "metadata": {},
   "outputs": [],
   "source": []
  }
 ],
 "metadata": {
  "kernelspec": {
   "display_name": "Python 3 (ipykernel)",
   "language": "python",
   "name": "python3"
  },
  "language_info": {
   "codemirror_mode": {
    "name": "ipython",
    "version": 3
   },
   "file_extension": ".py",
   "mimetype": "text/x-python",
   "name": "python",
   "nbconvert_exporter": "python",
   "pygments_lexer": "ipython3",
   "version": "3.9.19"
  }
 },
 "nbformat": 4,
 "nbformat_minor": 5
}
