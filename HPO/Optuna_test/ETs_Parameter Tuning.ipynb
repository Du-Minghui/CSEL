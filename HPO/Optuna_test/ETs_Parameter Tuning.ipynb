{
 "cells": [
  {
   "cell_type": "code",
   "execution_count": 1,
   "id": "69d84da0",
   "metadata": {},
   "outputs": [
    {
     "name": "stderr",
     "output_type": "stream",
     "text": [
      "/home/dmh/biosofts/miniconda3/envs/py39/lib/python3.9/site-packages/tqdm/auto.py:21: TqdmWarning: IProgress not found. Please update jupyter and ipywidgets. See https://ipywidgets.readthedocs.io/en/stable/user_install.html\n",
      "  from .autonotebook import tqdm as notebook_tqdm\n"
     ]
    }
   ],
   "source": [
    "import optuna\n",
    "from optuna.samplers import TPESampler "
   ]
  },
  {
   "cell_type": "code",
   "execution_count": 2,
   "id": "73fa5412",
   "metadata": {},
   "outputs": [],
   "source": [
    "import pandas as pd\n",
    "import numpy as np\n",
    "from sklearn.model_selection import KFold\n",
    "from sklearn import svm, linear_model, ensemble\n",
    "from sklearn import model_selection\n",
    "import warnings\n",
    "warnings.filterwarnings(\"ignore\")\n",
    "from sklearn.metrics import accuracy_score"
   ]
  },
  {
   "cell_type": "code",
   "execution_count": 3,
   "id": "fb99b68b",
   "metadata": {},
   "outputs": [],
   "source": [
    "labels = pd.read_csv(\"antibacterial_lable.csv\", index_col=0 )\n",
    "data = pd.read_csv(\"mibig(antismash).csv\", index_col=0 )"
   ]
  },
  {
   "cell_type": "code",
   "execution_count": 4,
   "id": "c998357c",
   "metadata": {},
   "outputs": [],
   "source": [
    "def get_sample_responses(vectors, responses):\n",
    "    samples = vectors\n",
    "    index = list(set(samples.index).intersection(set(labels.index)))\n",
    "    responses = responses.loc[index]\n",
    "    samples = samples.loc[index]\n",
    "    return samples, responses"
   ]
  },
  {
   "cell_type": "code",
   "execution_count": 5,
   "id": "a95e0cd3",
   "metadata": {},
   "outputs": [],
   "source": [
    "X , y = get_sample_responses(data, labels)\n",
    "bgc_ids = pd.Series(y.index)"
   ]
  },
  {
   "cell_type": "code",
   "execution_count": 6,
   "id": "b280cafb",
   "metadata": {},
   "outputs": [],
   "source": [
    "def objective(trial): \n",
    "    param = {\n",
    "        \"n_estimators\": trial.suggest_int('n_estimators', 1, 200),\n",
    "        \"criterion\": trial.suggest_categorical('criterion', ['gini','entropy']),\n",
    "        \"min_samples_split\": trial.suggest_int('min_samples_split', 2, 50),\n",
    "        \"min_samples_leaf\": trial.suggest_int('min_samples_leaf', 1, 10),\n",
    "        \"max_features\": trial.suggest_categorical('max_features', ['auto','sqrt','log2']) ,\n",
    "        #\"oob_score\": trial.suggest_categorical('oob_score', [False, True]),\n",
    "        \"class_weight\": trial.suggest_categorical('class_weight', ['balanced','balanced_subsample'])\n",
    "    }\n",
    "    \n",
    "    clf = ensemble.ExtraTreesClassifier(**param,bootstrap=False,n_jobs=-1)\n",
    "    \n",
    "    acc_kf = []\n",
    "    \n",
    "    cv = KFold(n_splits=5,random_state=0,shuffle=True)\n",
    "    for i, (id_train, id_val) in enumerate(cv.split(bgc_ids)):\n",
    "        train_ids, val_ids = bgc_ids[id_train], bgc_ids[id_val]\n",
    "        X_train, X_val = X.loc[train_ids].values, X.loc[val_ids].values\n",
    "        y_train, y_val = y.loc[train_ids].values, y.loc[val_ids].values\n",
    "        #print('Train:', len(X_train), 'Test:', len(X_val))\n",
    "    \n",
    "        clf.fit(X_train, y_train)\n",
    "        pred = clf.predict(X_val)\n",
    "    \n",
    "        acc = accuracy_score(pred, y_val)\n",
    "        acc_kf.append(acc)\n",
    "        \n",
    "    acc_kf = np.array(acc_kf).mean()\n",
    "    \n",
    "    return acc_kf"
   ]
  },
  {
   "cell_type": "code",
   "execution_count": 7,
   "id": "70d1cbfb",
   "metadata": {},
   "outputs": [
    {
     "name": "stderr",
     "output_type": "stream",
     "text": [
      "[I 2024-07-01 04:37:50,343] A new study created in memory with name: no-name-1c6e1968-fa81-4527-854d-08b0ba75f33f\n"
     ]
    }
   ],
   "source": [
    "study = optuna.create_study(direction=\"maximize\",sampler=TPESampler(),pruner=optuna.pruners.HyperbandPruner())"
   ]
  },
  {
   "cell_type": "code",
   "execution_count": 8,
   "id": "5ebfeb55",
   "metadata": {},
   "outputs": [
    {
     "name": "stderr",
     "output_type": "stream",
     "text": [
      "[I 2024-07-01 04:37:50,812] Trial 0 finished with value: 0.6526468253968253 and parameters: {'n_estimators': 46, 'criterion': 'entropy', 'min_samples_split': 12, 'min_samples_leaf': 4, 'max_features': 'log2', 'class_weight': 'balanced'}. Best is trial 0 with value: 0.6526468253968253.\n"
     ]
    },
    {
     "name": "stdout",
     "output_type": "stream",
     "text": [
      "CPU times: user 318 ms, sys: 88.6 ms, total: 406 ms\n",
      "Wall time: 392 ms\n"
     ]
    }
   ],
   "source": [
    "%%time\n",
    "study.optimize(objective, n_trials=1)"
   ]
  },
  {
   "cell_type": "code",
   "execution_count": null,
   "id": "2725e179-e65d-44a9-9472-3873169320ed",
   "metadata": {},
   "outputs": [],
   "source": []
  }
 ],
 "metadata": {
  "kernelspec": {
   "display_name": "Python 3 (ipykernel)",
   "language": "python",
   "name": "python3"
  },
  "language_info": {
   "codemirror_mode": {
    "name": "ipython",
    "version": 3
   },
   "file_extension": ".py",
   "mimetype": "text/x-python",
   "name": "python",
   "nbconvert_exporter": "python",
   "pygments_lexer": "ipython3",
   "version": "3.9.19"
  }
 },
 "nbformat": 4,
 "nbformat_minor": 5
}
