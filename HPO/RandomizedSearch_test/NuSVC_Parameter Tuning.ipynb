{
 "cells": [
  {
   "cell_type": "code",
   "execution_count": 1,
   "id": "20fdd5e6-61e8-4481-aae9-503ff2ef7ee6",
   "metadata": {},
   "outputs": [],
   "source": [
    "import pandas as pd\n",
    "import numpy as np\n",
    "from sklearn.model_selection import KFold\n",
    "from sklearn import svm, linear_model, ensemble\n",
    "from sklearn import model_selection\n",
    "from sklearn.metrics import accuracy_score\n",
    "import warnings\n",
    "warnings.filterwarnings(\"ignore\")"
   ]
  },
  {
   "cell_type": "code",
   "execution_count": 2,
   "id": "26a20e5f-2f49-4524-bbcb-97a8bade4ff9",
   "metadata": {},
   "outputs": [],
   "source": [
    "from sklearn.model_selection import RandomizedSearchCV\n",
    "from scipy.stats import randint, uniform"
   ]
  },
  {
   "cell_type": "code",
   "execution_count": 3,
   "id": "8e5f48f0-44ce-451e-bdb7-ce9c40502bf3",
   "metadata": {},
   "outputs": [],
   "source": [
    "labels = pd.read_csv(\"lable(3.1).csv\", index_col=0 )\n",
    "data = pd.read_csv(\"mibig(3.1).csv\", index_col=0 )"
   ]
  },
  {
   "cell_type": "code",
   "execution_count": 4,
   "id": "d6e856d1-5eb8-4d0c-aff2-9fad542432b9",
   "metadata": {},
   "outputs": [],
   "source": [
    "def get_sample_responses(vectors, responses):\n",
    "    samples = vectors\n",
    "    index = list(set(samples.index).intersection(set(labels.index)))\n",
    "    responses = responses.loc[index]\n",
    "    samples = samples.loc[index]\n",
    "    return samples, responses"
   ]
  },
  {
   "cell_type": "code",
   "execution_count": 5,
   "id": "1cf9ec85-20db-47d0-bde0-533ec0b32583",
   "metadata": {},
   "outputs": [],
   "source": [
    "X , y = get_sample_responses(data, labels)"
   ]
  },
  {
   "cell_type": "code",
   "execution_count": 6,
   "id": "7ba7a1fd-145d-4c26-bf59-f931abfcc6f5",
   "metadata": {},
   "outputs": [],
   "source": [
    "def RandomizedSearch(clf, params, X, y):\n",
    "    rscv = RandomizedSearchCV(clf, params, scoring='accuracy', n_iter=1, n_jobs=-1, cv=5)\n",
    "    rscv.fit(X, y)\n",
    "    print(\"The best acc: \", rscv.best_score_)\n",
    "    print(\"The best params: \", rscv.best_params_)"
   ]
  },
  {
   "cell_type": "code",
   "execution_count": 7,
   "id": "a67b30ac-d8b8-413d-b0f1-0fac4099af03",
   "metadata": {},
   "outputs": [],
   "source": [
    "clf = svm.NuSVC(probability = True)"
   ]
  },
  {
   "cell_type": "code",
   "execution_count": 8,
   "id": "555397a6-abe2-4663-96a8-d9443815c187",
   "metadata": {},
   "outputs": [],
   "source": [
    "param_rs = {\n",
    "    'nu': uniform(0.0, 0.5),\n",
    "    'kernel': ['poly','rbf','sigmoid'],\n",
    "    'shrinking': [False, True],\n",
    "    'class_weight': ['balanced',None]\n",
    "}"
   ]
  },
  {
   "cell_type": "code",
   "execution_count": 9,
   "id": "9899bfe8-cc7d-4720-821c-fe3457f4651a",
   "metadata": {},
   "outputs": [
    {
     "name": "stdout",
     "output_type": "stream",
     "text": [
      "The best acc:  0.6865277777777778\n",
      "The best params:  {'class_weight': 'balanced', 'kernel': 'poly', 'nu': 0.49887809781825815, 'shrinking': False}\n",
      "CPU times: user 13.2 s, sys: 161 ms, total: 13.4 s\n",
      "Wall time: 44.9 s\n"
     ]
    }
   ],
   "source": [
    "%%time\n",
    "rscv = RandomizedSearch(clf, param_rs, X, y.values.ravel())"
   ]
  },
  {
   "cell_type": "code",
   "execution_count": null,
   "id": "cc7467ee-3705-435a-bb02-96c35de10ca9",
   "metadata": {},
   "outputs": [],
   "source": []
  }
 ],
 "metadata": {
  "kernelspec": {
   "display_name": "Python 3 (ipykernel)",
   "language": "python",
   "name": "python3"
  },
  "language_info": {
   "codemirror_mode": {
    "name": "ipython",
    "version": 3
   },
   "file_extension": ".py",
   "mimetype": "text/x-python",
   "name": "python",
   "nbconvert_exporter": "python",
   "pygments_lexer": "ipython3",
   "version": "3.9.19"
  }
 },
 "nbformat": 4,
 "nbformat_minor": 5
}
