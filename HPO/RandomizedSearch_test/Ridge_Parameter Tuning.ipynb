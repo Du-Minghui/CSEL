{
 "cells": [
  {
   "cell_type": "code",
   "execution_count": 1,
   "id": "22d3e22b-8fc6-4f4a-96cb-21252fcd1c8f",
   "metadata": {},
   "outputs": [],
   "source": [
    "import pandas as pd\n",
    "import numpy as np\n",
    "from sklearn.model_selection import KFold\n",
    "from sklearn import svm, linear_model, ensemble\n",
    "from sklearn import model_selection\n",
    "from sklearn.metrics import accuracy_score\n",
    "import warnings\n",
    "warnings.filterwarnings(\"ignore\")"
   ]
  },
  {
   "cell_type": "code",
   "execution_count": 2,
   "id": "b6e5253a-4c08-411d-bf29-c3f127e0f47e",
   "metadata": {},
   "outputs": [],
   "source": [
    "from sklearn.model_selection import RandomizedSearchCV\n",
    "from scipy.stats import randint, uniform"
   ]
  },
  {
   "cell_type": "code",
   "execution_count": 3,
   "id": "84d27fb3-18ee-4c28-ac6c-f9c51de3584e",
   "metadata": {},
   "outputs": [],
   "source": [
    "labels = pd.read_csv(\"antibacterial_lable.csv\", index_col=0 )\n",
    "data = pd.read_csv(\"mibig(antismash).csv\", index_col=0 )"
   ]
  },
  {
   "cell_type": "code",
   "execution_count": 4,
   "id": "8858fdf5-b8c0-4bd7-b6b2-532c94e9ae46",
   "metadata": {},
   "outputs": [],
   "source": [
    "def get_sample_responses(vectors, responses):\n",
    "    samples = vectors\n",
    "    index = list(set(samples.index).intersection(set(labels.index)))\n",
    "    responses = responses.loc[index]\n",
    "    samples = samples.loc[index]\n",
    "    return samples, responses"
   ]
  },
  {
   "cell_type": "code",
   "execution_count": 5,
   "id": "109adab9-1ca4-42a6-9958-7b605805a0d1",
   "metadata": {},
   "outputs": [],
   "source": [
    "X , y = get_sample_responses(data, labels)"
   ]
  },
  {
   "cell_type": "code",
   "execution_count": 6,
   "id": "e9a3c5ac-9efc-4314-b872-da7a4b920fb1",
   "metadata": {},
   "outputs": [],
   "source": [
    "def RandomizedSearch(clf, params, X, y):\n",
    "    rscv = RandomizedSearchCV(clf, params, scoring='accuracy', n_iter=1, n_jobs=-1, cv=5)\n",
    "    rscv.fit(X, y)\n",
    "    print(\"The best acc: \", rscv.best_score_)\n",
    "    print(\"The best params: \", rscv.best_params_)"
   ]
  },
  {
   "cell_type": "code",
   "execution_count": 7,
   "id": "d18a6e7d-e5a9-4f8e-b67e-e8210c5e219e",
   "metadata": {},
   "outputs": [],
   "source": [
    "clf = linear_model.RidgeClassifier()"
   ]
  },
  {
   "cell_type": "code",
   "execution_count": 8,
   "id": "0870c9aa-2371-4b85-8e20-7670424cbd79",
   "metadata": {},
   "outputs": [],
   "source": [
    "param_rs = {\n",
    "    'alpha': uniform(0.1, 10.0),\n",
    "    'normalize': [False, True],\n",
    "    'copy_X': [False, True],\n",
    "    'class_weight': ['balanced',None],\n",
    "    'solver': ['auto','svd','cholesky','lsqr','sparse_cg','sag','saga']\n",
    "}"
   ]
  },
  {
   "cell_type": "code",
   "execution_count": 9,
   "id": "6e0059ae-6432-44e7-a515-12de8e4b7977",
   "metadata": {},
   "outputs": [
    {
     "name": "stderr",
     "output_type": "stream",
     "text": [
      "/home/dmh/biosofts/miniconda3/envs/py39/lib/python3.9/site-packages/sklearn/linear_model/_base.py:148: FutureWarning: 'normalize' was deprecated in version 1.0 and will be removed in 1.2. Please leave the normalize parameter to its default value to silence this warning. The default behavior of this estimator is to not do any normalization. If normalization is needed please use sklearn.preprocessing.StandardScaler instead.\n",
      "  warnings.warn(\n",
      "/home/dmh/biosofts/miniconda3/envs/py39/lib/python3.9/site-packages/sklearn/linear_model/_base.py:148: FutureWarning: 'normalize' was deprecated in version 1.0 and will be removed in 1.2. Please leave the normalize parameter to its default value to silence this warning. The default behavior of this estimator is to not do any normalization. If normalization is needed please use sklearn.preprocessing.StandardScaler instead.\n",
      "  warnings.warn(\n",
      "/home/dmh/biosofts/miniconda3/envs/py39/lib/python3.9/site-packages/sklearn/linear_model/_base.py:148: FutureWarning: 'normalize' was deprecated in version 1.0 and will be removed in 1.2. Please leave the normalize parameter to its default value to silence this warning. The default behavior of this estimator is to not do any normalization. If normalization is needed please use sklearn.preprocessing.StandardScaler instead.\n",
      "  warnings.warn(\n",
      "/home/dmh/biosofts/miniconda3/envs/py39/lib/python3.9/site-packages/sklearn/linear_model/_base.py:148: FutureWarning: 'normalize' was deprecated in version 1.0 and will be removed in 1.2. Please leave the normalize parameter to its default value to silence this warning. The default behavior of this estimator is to not do any normalization. If normalization is needed please use sklearn.preprocessing.StandardScaler instead.\n",
      "  warnings.warn(\n",
      "/home/dmh/biosofts/miniconda3/envs/py39/lib/python3.9/site-packages/sklearn/linear_model/_base.py:148: FutureWarning: 'normalize' was deprecated in version 1.0 and will be removed in 1.2. Please leave the normalize parameter to its default value to silence this warning. The default behavior of this estimator is to not do any normalization. If normalization is needed please use sklearn.preprocessing.StandardScaler instead.\n",
      "  warnings.warn(\n"
     ]
    },
    {
     "name": "stdout",
     "output_type": "stream",
     "text": [
      "The best acc:  0.6919047619047618\n",
      "The best params:  {'alpha': 9.774122847315873, 'class_weight': None, 'copy_X': True, 'normalize': False, 'solver': 'cholesky'}\n",
      "CPU times: user 887 ms, sys: 1.4 s, total: 2.28 s\n",
      "Wall time: 1.25 s\n"
     ]
    }
   ],
   "source": [
    "%%time\n",
    "rscv = RandomizedSearch(clf, param_rs, X, y.values.ravel())"
   ]
  },
  {
   "cell_type": "code",
   "execution_count": null,
   "id": "87f4fdd6-0c26-4e80-8a83-773ae72d77f4",
   "metadata": {},
   "outputs": [],
   "source": []
  }
 ],
 "metadata": {
  "kernelspec": {
   "display_name": "Python 3 (ipykernel)",
   "language": "python",
   "name": "python3"
  },
  "language_info": {
   "codemirror_mode": {
    "name": "ipython",
    "version": 3
   },
   "file_extension": ".py",
   "mimetype": "text/x-python",
   "name": "python",
   "nbconvert_exporter": "python",
   "pygments_lexer": "ipython3",
   "version": "3.9.19"
  }
 },
 "nbformat": 4,
 "nbformat_minor": 5
}
