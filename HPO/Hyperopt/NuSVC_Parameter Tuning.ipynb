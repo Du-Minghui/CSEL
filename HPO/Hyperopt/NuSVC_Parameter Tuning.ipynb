{
 "cells": [
  {
   "cell_type": "code",
   "execution_count": 1,
   "id": "76c2fae4-28cb-4b27-8f66-745ca7342916",
   "metadata": {},
   "outputs": [],
   "source": [
    "import pandas as pd\n",
    "import numpy as np\n",
    "from sklearn.model_selection import KFold\n",
    "from sklearn import svm, linear_model, ensemble\n",
    "from sklearn import model_selection\n",
    "from sklearn.metrics import accuracy_score\n",
    "import warnings\n",
    "warnings.filterwarnings(\"ignore\")"
   ]
  },
  {
   "cell_type": "code",
   "execution_count": 2,
   "id": "593593cb-7063-48a2-b230-d0ab691ce529",
   "metadata": {},
   "outputs": [],
   "source": [
    "from hyperopt import fmin, tpe, hp, Trials, STATUS_OK"
   ]
  },
  {
   "cell_type": "code",
   "execution_count": 3,
   "id": "083a7795-1cff-4af9-bdf3-a84464e13484",
   "metadata": {},
   "outputs": [],
   "source": [
    "labels = pd.read_csv(\"lable(3.1).csv\", index_col=0 )\n",
    "data = pd.read_csv(\"mibig(3.1).csv\", index_col=0 )"
   ]
  },
  {
   "cell_type": "code",
   "execution_count": 4,
   "id": "de1ea0b7-edb1-4541-a895-3a5ce2901de6",
   "metadata": {},
   "outputs": [],
   "source": [
    "def get_sample_responses(vectors, responses):\n",
    "    samples = vectors\n",
    "    index = list(set(samples.index).intersection(set(labels.index)))\n",
    "    responses = responses.loc[index]\n",
    "    samples = samples.loc[index]\n",
    "    return samples, responses"
   ]
  },
  {
   "cell_type": "code",
   "execution_count": 5,
   "id": "c3518d90-c68e-46fe-a399-11028af51e89",
   "metadata": {},
   "outputs": [],
   "source": [
    "X , y = get_sample_responses(data, labels)\n",
    "bgc_ids = pd.Series(y.index)"
   ]
  },
  {
   "cell_type": "code",
   "execution_count": 6,
   "id": "a34cda1e-dea3-4c72-a9e9-df3d3b78def3",
   "metadata": {},
   "outputs": [],
   "source": [
    "def objective(param):\n",
    "    \n",
    "    clf = svm.NuSVC(**param,probability = True)\n",
    "    \n",
    "    acc_kf = []\n",
    "    \n",
    "    cv = KFold(n_splits=5,random_state=0,shuffle=True)\n",
    "    for i, (id_train, id_val) in enumerate(cv.split(bgc_ids)):\n",
    "        train_ids, val_ids = bgc_ids[id_train], bgc_ids[id_val]\n",
    "        X_train, X_val = X.loc[train_ids].values, X.loc[val_ids].values\n",
    "        y_train, y_val = y.loc[train_ids].values, y.loc[val_ids].values\n",
    "        #print('Train:', len(X_train), 'Test:', len(X_val))\n",
    "    \n",
    "        clf.fit(X_train, y_train)\n",
    "        pred = clf.predict(X_val)\n",
    "    \n",
    "        acc = accuracy_score(pred, y_val)\n",
    "        acc_kf.append(acc)\n",
    "        \n",
    "    acc_kf = np.array(acc_kf).mean()\n",
    "    \n",
    "    return {'loss': -acc_kf, 'status': STATUS_OK}"
   ]
  },
  {
   "cell_type": "code",
   "execution_count": 7,
   "id": "802de412-a429-475c-8827-2ddd94dfa45d",
   "metadata": {},
   "outputs": [],
   "source": [
    "space = {\n",
    "    'nu': hp.uniform('nu', 0.0, 0.5),\n",
    "    'kernel': hp.choice('kernel', ['poly','rbf','sigmoid']),\n",
    "    'shrinking': hp.choice('shrinking', [False, True]),\n",
    "    'class_weight': hp.choice('class_weight', ['balanced',None])\n",
    "}"
   ]
  },
  {
   "cell_type": "code",
   "execution_count": 8,
   "id": "8804e2c4-f874-4372-b98f-bc07d62fd53b",
   "metadata": {},
   "outputs": [],
   "source": [
    "trials = Trials()"
   ]
  },
  {
   "cell_type": "code",
   "execution_count": 9,
   "id": "0bfe3d6c-838d-4879-86df-62b9c3598a22",
   "metadata": {
    "scrolled": true
   },
   "outputs": [
    {
     "name": "stdout",
     "output_type": "stream",
     "text": [
      "100%|████████████████████████████████████████| 1000/1000 [22:47:40<00:00, 82.06s/trial, best loss: -0.7301785714285716]\n",
      "CPU times: total: 14h 11min 41s\n",
      "Wall time: 22h 47min 40s\n"
     ]
    }
   ],
   "source": [
    "%%time\n",
    "best = fmin(\n",
    "    fn=objective,            \n",
    "    space=space,             \n",
    "    algo=tpe.suggest,        \n",
    "    max_evals=1000,           \n",
    "    trials=trials            \n",
    ")"
   ]
  },
  {
   "cell_type": "code",
   "execution_count": 10,
   "id": "d3a0cd96-24ec-4a1c-9c4e-2adca0b9eb3a",
   "metadata": {},
   "outputs": [],
   "source": [
    "best_params = {\n",
    "    'nu': best['nu'] + 0.0, \n",
    "    'kernel': ['poly','rbf','sigmoid'][best['kernel']],  \n",
    "    'shrinking': [False, True][best['shrinking']], \n",
    "    'class_weight': ['balanced',None][best['class_weight']],   \n",
    "}"
   ]
  },
  {
   "cell_type": "code",
   "execution_count": 11,
   "id": "12486301-41b0-4ae8-bdab-5572b7b2a9b0",
   "metadata": {},
   "outputs": [
    {
     "name": "stdout",
     "output_type": "stream",
     "text": [
      "Best parameters found:  {'nu': 0.39791815898408434, 'kernel': 'rbf', 'shrinking': False, 'class_weight': 'balanced'}\n"
     ]
    }
   ],
   "source": [
    "print(\"Best parameters found: \", best_params)"
   ]
  },
  {
   "cell_type": "code",
   "execution_count": null,
   "id": "60a67e90-6e66-4aa6-b6aa-c8107b5cd718",
   "metadata": {},
   "outputs": [],
   "source": []
  },
  {
   "cell_type": "code",
   "execution_count": null,
   "id": "5c128801-6df1-43e8-b454-065e19502e0d",
   "metadata": {},
   "outputs": [],
   "source": []
  }
 ],
 "metadata": {
  "kernelspec": {
   "display_name": "Python 3 (ipykernel)",
   "language": "python",
   "name": "python3"
  },
  "language_info": {
   "codemirror_mode": {
    "name": "ipython",
    "version": 3
   },
   "file_extension": ".py",
   "mimetype": "text/x-python",
   "name": "python",
   "nbconvert_exporter": "python",
   "pygments_lexer": "ipython3",
   "version": "3.9.13"
  }
 },
 "nbformat": 4,
 "nbformat_minor": 5
}
