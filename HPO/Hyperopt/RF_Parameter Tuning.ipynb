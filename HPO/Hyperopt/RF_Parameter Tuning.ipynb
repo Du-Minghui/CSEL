{
 "cells": [
  {
   "cell_type": "code",
   "execution_count": 1,
   "id": "b4aefff3-1610-4326-ae48-8f2cfaf5a944",
   "metadata": {},
   "outputs": [],
   "source": [
    "import pandas as pd\n",
    "import numpy as np\n",
    "from sklearn.model_selection import KFold\n",
    "from sklearn import svm, linear_model, ensemble\n",
    "from sklearn import model_selection\n",
    "from sklearn.metrics import accuracy_score\n",
    "import warnings\n",
    "warnings.filterwarnings(\"ignore\")"
   ]
  },
  {
   "cell_type": "code",
   "execution_count": 2,
   "id": "d7c966c5-f07c-4c35-8e92-b42909c1ee94",
   "metadata": {},
   "outputs": [],
   "source": [
    "from hyperopt import fmin, tpe, hp, Trials, STATUS_OK"
   ]
  },
  {
   "cell_type": "code",
   "execution_count": 3,
   "id": "4685e235-bc90-47b3-893c-5bf6b2bd0e73",
   "metadata": {},
   "outputs": [],
   "source": [
    "labels = pd.read_csv(\"antibacterial_lable.csv\", index_col=0 )\n",
    "data = pd.read_csv(\"mibig(antismash).csv\", index_col=0 )"
   ]
  },
  {
   "cell_type": "code",
   "execution_count": 4,
   "id": "a41c4dc3-5048-4732-897d-42ff3fe8e4e7",
   "metadata": {},
   "outputs": [],
   "source": [
    "def get_sample_responses(vectors, responses):\n",
    "    samples = vectors\n",
    "    index = list(set(samples.index).intersection(set(labels.index)))\n",
    "    responses = responses.loc[index]\n",
    "    samples = samples.loc[index]\n",
    "    return samples, responses"
   ]
  },
  {
   "cell_type": "code",
   "execution_count": 5,
   "id": "fbe8fb28-e610-4c37-9488-31ed4bf7dc80",
   "metadata": {},
   "outputs": [],
   "source": [
    "X , y = get_sample_responses(data, labels)\n",
    "bgc_ids = pd.Series(y.index)"
   ]
  },
  {
   "cell_type": "code",
   "execution_count": 6,
   "id": "452f44d5-d3e8-45ad-9abf-95c63a6efe58",
   "metadata": {},
   "outputs": [],
   "source": [
    "def objective(param):\n",
    "    \n",
    "    clf = ensemble.RandomForestClassifier(**param,bootstrap=False,n_jobs=-1)\n",
    "    \n",
    "    acc_kf = []\n",
    "    \n",
    "    cv = KFold(n_splits=5,random_state=0,shuffle=True)\n",
    "    for i, (id_train, id_val) in enumerate(cv.split(bgc_ids)):\n",
    "        train_ids, val_ids = bgc_ids[id_train], bgc_ids[id_val]\n",
    "        X_train, X_val = X.loc[train_ids].values, X.loc[val_ids].values\n",
    "        y_train, y_val = y.loc[train_ids].values, y.loc[val_ids].values\n",
    "        #print('Train:', len(X_train), 'Test:', len(X_val))\n",
    "    \n",
    "        clf.fit(X_train, y_train)\n",
    "        pred = clf.predict(X_val)\n",
    "    \n",
    "        acc = accuracy_score(pred, y_val)\n",
    "        acc_kf.append(acc)\n",
    "        \n",
    "    acc_kf = np.array(acc_kf).mean()\n",
    "    \n",
    "    return {'loss': -acc_kf, 'status': STATUS_OK}"
   ]
  },
  {
   "cell_type": "code",
   "execution_count": 7,
   "id": "23b46036-2940-42be-a934-82223721f4bf",
   "metadata": {},
   "outputs": [],
   "source": [
    "space = {\n",
    "    'n_estimators': hp.choice('n_estimators', range(1, 200)),\n",
    "    'criterion': hp.choice('criterion', ['gini','entropy']),\n",
    "    'min_samples_split': hp.choice('min_samples_split', range(2, 50)),\n",
    "    'min_samples_leaf': hp.choice('min_samples_leaf', range(1, 10)),\n",
    "    'max_features': hp.choice('max_features', ['auto','sqrt','log2']),\n",
    "    'class_weight': hp.choice('class_weight', ['balanced','balanced_subsample'])\n",
    "}"
   ]
  },
  {
   "cell_type": "code",
   "execution_count": 8,
   "id": "f3b8f40e-8cfd-4952-9741-91584ff9deb8",
   "metadata": {},
   "outputs": [],
   "source": [
    "trials = Trials()"
   ]
  },
  {
   "cell_type": "code",
   "execution_count": 9,
   "id": "d0bc6d6e-f6bd-4fd4-afba-0f51bec786bc",
   "metadata": {
    "scrolled": true
   },
   "outputs": [
    {
     "name": "stdout",
     "output_type": "stream",
     "text": [
      "100%|███████████████████████████████████████████| 1000/1000 [28:15<00:00,  1.70s/trial, best loss: -0.7506309523809525]\n",
      "CPU times: total: 43min 18s\n",
      "Wall time: 28min 15s\n"
     ]
    }
   ],
   "source": [
    "%%time\n",
    "best = fmin(\n",
    "    fn=objective,            \n",
    "    space=space,             \n",
    "    algo=tpe.suggest,        \n",
    "    max_evals=1000,           \n",
    "    trials=trials            \n",
    ")"
   ]
  },
  {
   "cell_type": "code",
   "execution_count": 10,
   "id": "3edc4d85-316e-4119-9382-99147bc91e26",
   "metadata": {},
   "outputs": [],
   "source": [
    "best_params = {\n",
    "    'n_estimators': best['n_estimators'] + 1, \n",
    "    'criterion': ['gini','entropy'][best['criterion']],  \n",
    "    'min_samples_split': best['min_samples_split'] + 2, \n",
    "    'min_samples_leaf': best['min_samples_leaf'] + 1, \n",
    "    'max_features': ['auto','sqrt','log2'][best['max_features']], \n",
    "    'class_weight': ['balanced','balanced_subsample'][best['class_weight']]\n",
    "}"
   ]
  },
  {
   "cell_type": "code",
   "execution_count": 11,
   "id": "7f2e1342-095e-46a9-901c-31fb26141c6b",
   "metadata": {},
   "outputs": [
    {
     "name": "stdout",
     "output_type": "stream",
     "text": [
      "Best parameters found:  {'n_estimators': 122, 'criterion': 'gini', 'min_samples_split': 2, 'min_samples_leaf': 1, 'max_features': 'log2', 'class_weight': 'balanced_subsample'}\n"
     ]
    }
   ],
   "source": [
    "print(\"Best parameters found: \", best_params)"
   ]
  },
  {
   "cell_type": "code",
   "execution_count": null,
   "id": "3cc4a063-bafc-474a-a45d-b19a54c984d3",
   "metadata": {},
   "outputs": [],
   "source": []
  }
 ],
 "metadata": {
  "kernelspec": {
   "display_name": "Python 3 (ipykernel)",
   "language": "python",
   "name": "python3"
  },
  "language_info": {
   "codemirror_mode": {
    "name": "ipython",
    "version": 3
   },
   "file_extension": ".py",
   "mimetype": "text/x-python",
   "name": "python",
   "nbconvert_exporter": "python",
   "pygments_lexer": "ipython3",
   "version": "3.9.13"
  }
 },
 "nbformat": 4,
 "nbformat_minor": 5
}
