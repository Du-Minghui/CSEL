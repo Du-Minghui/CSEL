{
 "cells": [
  {
   "cell_type": "code",
   "execution_count": 1,
   "id": "7c5c2566-9134-43d5-b540-ceb77191353d",
   "metadata": {},
   "outputs": [],
   "source": [
    "import pandas as pd\n",
    "import numpy as np\n",
    "from sklearn.model_selection import KFold\n",
    "from sklearn import svm, linear_model, ensemble\n",
    "from sklearn import model_selection\n",
    "from sklearn.metrics import accuracy_score\n",
    "import warnings\n",
    "warnings.filterwarnings(\"ignore\")"
   ]
  },
  {
   "cell_type": "code",
   "execution_count": 2,
   "id": "875fc804-76a8-42c8-bcd6-49285be9a55f",
   "metadata": {},
   "outputs": [],
   "source": [
    "from hyperopt import fmin, tpe, hp, Trials, STATUS_OK"
   ]
  },
  {
   "cell_type": "code",
   "execution_count": 3,
   "id": "f05d1e0c-a5dd-4b64-b0c0-494954664c5b",
   "metadata": {},
   "outputs": [],
   "source": [
    "labels = pd.read_csv(\"antibacterial_lable.csv\", index_col=0 )\n",
    "data = pd.read_csv(\"mibig(antismash).csv\", index_col=0 )"
   ]
  },
  {
   "cell_type": "code",
   "execution_count": 4,
   "id": "181fccc0-e548-44cd-ab55-00e2d6eb8830",
   "metadata": {},
   "outputs": [],
   "source": [
    "def get_sample_responses(vectors, responses):\n",
    "    samples = vectors\n",
    "    index = list(set(samples.index).intersection(set(labels.index)))\n",
    "    responses = responses.loc[index]\n",
    "    samples = samples.loc[index]\n",
    "    return samples, responses"
   ]
  },
  {
   "cell_type": "code",
   "execution_count": 5,
   "id": "2dcc41a7-8cee-4efc-8835-33cd4bef9124",
   "metadata": {},
   "outputs": [],
   "source": [
    "X , y = get_sample_responses(data, labels)\n",
    "bgc_ids = pd.Series(y.index)"
   ]
  },
  {
   "cell_type": "code",
   "execution_count": 6,
   "id": "ea68cdba-fd3c-418d-b906-b279c13236ad",
   "metadata": {},
   "outputs": [],
   "source": [
    "def objective(param):\n",
    "    \n",
    "    clf = linear_model.RidgeClassifier(**param)\n",
    "    \n",
    "    acc_kf = []\n",
    "    \n",
    "    cv = KFold(n_splits=5,random_state=0,shuffle=True)\n",
    "    for i, (id_train, id_val) in enumerate(cv.split(bgc_ids)):\n",
    "        train_ids, val_ids = bgc_ids[id_train], bgc_ids[id_val]\n",
    "        X_train, X_val = X.loc[train_ids].values, X.loc[val_ids].values\n",
    "        y_train, y_val = y.loc[train_ids].values, y.loc[val_ids].values\n",
    "        #print('Train:', len(X_train), 'Test:', len(X_val))\n",
    "    \n",
    "        clf.fit(X_train, y_train)\n",
    "        pred = clf.predict(X_val)\n",
    "    \n",
    "        acc = accuracy_score(pred, y_val)\n",
    "        acc_kf.append(acc)\n",
    "        \n",
    "    acc_kf = np.array(acc_kf).mean()\n",
    "    \n",
    "    return {'loss': -acc_kf, 'status': STATUS_OK}"
   ]
  },
  {
   "cell_type": "code",
   "execution_count": 7,
   "id": "e206058e-5f47-460b-968b-deb538b8f8a9",
   "metadata": {},
   "outputs": [],
   "source": [
    "space = {\n",
    "    'alpha': hp.uniform('alpha', 0.1, 10.0),\n",
    "    'normalize': hp.choice('normalize', [False, True]),\n",
    "    'copy_X': hp.choice('copy_X', [False, True]),\n",
    "    'class_weight': hp.choice('class_weight', ['balanced',None]),\n",
    "    'solver': hp.choice('solver', ['auto','svd','cholesky','lsqr','sparse_cg','sag','saga'])\n",
    "}"
   ]
  },
  {
   "cell_type": "code",
   "execution_count": 8,
   "id": "75ca8dc6-a98a-40db-a694-874c3dc44f98",
   "metadata": {
    "scrolled": true
   },
   "outputs": [],
   "source": [
    "trials = Trials()"
   ]
  },
  {
   "cell_type": "code",
   "execution_count": 9,
   "id": "c8d57ab8-cbb6-42f7-8415-17f1059d448b",
   "metadata": {
    "scrolled": true
   },
   "outputs": [
    {
     "name": "stdout",
     "output_type": "stream",
     "text": [
      "100%|█████████████████████████████████████████| 1000/1000 [2:30:05<00:00,  9.01s/trial, best loss: -0.7265753968253968]\n",
      "CPU times: total: 1h 53min 8s\n",
      "Wall time: 2h 30min 5s\n"
     ]
    }
   ],
   "source": [
    "%%time\n",
    "best = fmin(\n",
    "    fn=objective,            \n",
    "    space=space,             \n",
    "    algo=tpe.suggest,        \n",
    "    max_evals=1000,           \n",
    "    trials=trials            \n",
    ")"
   ]
  },
  {
   "cell_type": "code",
   "execution_count": 10,
   "id": "e2718d5d-729a-4704-ae4d-593338d134d9",
   "metadata": {},
   "outputs": [],
   "source": [
    "best_params = {\n",
    "    'alpha': best['alpha'], \n",
    "    'normalize': [False, True][best['normalize']],  \n",
    "    'copy_X': [False, True][best['copy_X']], \n",
    "    'class_weight': ['balanced',None][best['class_weight']],   \n",
    "    'solver': ['auto','svd','cholesky','lsqr','sparse_cg','sag','saga'][best['solver']]\n",
    "}"
   ]
  },
  {
   "cell_type": "code",
   "execution_count": 11,
   "id": "9a4c24b3-a985-4a39-a172-e9e8e8cb79b8",
   "metadata": {},
   "outputs": [
    {
     "name": "stdout",
     "output_type": "stream",
     "text": [
      "Best parameters found:  {'alpha': 8.475205712772372, 'normalize': True, 'copy_X': True, 'class_weight': None, 'solver': 'sag'}\n"
     ]
    }
   ],
   "source": [
    "print(\"Best parameters found: \", best_params)"
   ]
  },
  {
   "cell_type": "code",
   "execution_count": null,
   "id": "9a259395-0628-4c66-96cf-d75e149d017a",
   "metadata": {},
   "outputs": [],
   "source": []
  }
 ],
 "metadata": {
  "kernelspec": {
   "display_name": "Python 3 (ipykernel)",
   "language": "python",
   "name": "python3"
  },
  "language_info": {
   "codemirror_mode": {
    "name": "ipython",
    "version": 3
   },
   "file_extension": ".py",
   "mimetype": "text/x-python",
   "name": "python",
   "nbconvert_exporter": "python",
   "pygments_lexer": "ipython3",
   "version": "3.9.13"
  }
 },
 "nbformat": 4,
 "nbformat_minor": 5
}
