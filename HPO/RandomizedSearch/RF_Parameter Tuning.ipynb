{
 "cells": [
  {
   "cell_type": "code",
   "execution_count": 1,
   "id": "341e9001-136b-469c-9578-cb87cf875a7b",
   "metadata": {},
   "outputs": [],
   "source": [
    "import pandas as pd\n",
    "import numpy as np\n",
    "from sklearn.model_selection import KFold\n",
    "from sklearn import svm, linear_model, ensemble\n",
    "from sklearn import model_selection\n",
    "from sklearn.metrics import accuracy_score\n",
    "import warnings\n",
    "warnings.filterwarnings(\"ignore\")"
   ]
  },
  {
   "cell_type": "code",
   "execution_count": 2,
   "id": "86062db7-9555-47e9-96c9-429bfefb586e",
   "metadata": {},
   "outputs": [],
   "source": [
    "from sklearn.model_selection import RandomizedSearchCV\n",
    "from scipy.stats import randint, uniform"
   ]
  },
  {
   "cell_type": "code",
   "execution_count": 3,
   "id": "8d8c015a-a9b5-423b-b3d7-abc4a3dd44c3",
   "metadata": {},
   "outputs": [],
   "source": [
    "labels = pd.read_csv(\"lable(3.1).csv\", index_col=0 )\n",
    "data = pd.read_csv(\"mibig(3.1).csv\", index_col=0 )"
   ]
  },
  {
   "cell_type": "code",
   "execution_count": 4,
   "id": "97121a83-1605-47e9-aec2-4097134da710",
   "metadata": {},
   "outputs": [],
   "source": [
    "def get_sample_responses(vectors, responses):\n",
    "    samples = vectors\n",
    "    index = list(set(samples.index).intersection(set(labels.index)))\n",
    "    responses = responses.loc[index]\n",
    "    samples = samples.loc[index]\n",
    "    return samples, responses"
   ]
  },
  {
   "cell_type": "code",
   "execution_count": 5,
   "id": "df99d9c0-c6e9-4a7d-96d1-5c686ca6ea05",
   "metadata": {},
   "outputs": [],
   "source": [
    "X , y = get_sample_responses(data, labels)"
   ]
  },
  {
   "cell_type": "code",
   "execution_count": 6,
   "id": "f421da02-75b0-452f-a8a2-2ded73c078ce",
   "metadata": {},
   "outputs": [],
   "source": [
    "def RandomizedSearch(clf, params, X, y):\n",
    "    rscv = RandomizedSearchCV(clf, params, scoring='accuracy', n_iter=1000, n_jobs=-1, cv=5)\n",
    "    rscv.fit(X, y)\n",
    "    print(\"The best acc: \", rscv.best_score_)\n",
    "    print(\"The best params: \", rscv.best_params_)"
   ]
  },
  {
   "cell_type": "code",
   "execution_count": 7,
   "id": "032cd29f-9125-4178-b770-f488d06aabca",
   "metadata": {},
   "outputs": [],
   "source": [
    "clf =ensemble.RandomForestClassifier(bootstrap=False,n_jobs=-1)"
   ]
  },
  {
   "cell_type": "code",
   "execution_count": 8,
   "id": "896f7b06-d85a-4b21-bfb5-5f886a3b6712",
   "metadata": {},
   "outputs": [],
   "source": [
    "param_rs = {\n",
    "    'n_estimators': randint(1, 200),\n",
    "    'criterion': ['gini','entropy'],\n",
    "    'min_samples_split': randint(2, 50),\n",
    "    'min_samples_leaf': randint(1, 10),\n",
    "    'max_features': ['auto', 'sqrt', 'log2'],\n",
    "    'class_weight': ['balanced','balanced_subsample']\n",
    "}"
   ]
  },
  {
   "cell_type": "code",
   "execution_count": 9,
   "id": "d0f47c3c-f036-44d1-aee0-5effd7c6516a",
   "metadata": {},
   "outputs": [
    {
     "name": "stdout",
     "output_type": "stream",
     "text": [
      "The best acc:  0.7417936507936508\n",
      "The best params:  {'class_weight': 'balanced_subsample', 'criterion': 'entropy', 'max_features': 'log2', 'min_samples_leaf': 1, 'min_samples_split': 4, 'n_estimators': 142}\n"
     ]
    }
   ],
   "source": [
    "rscv = RandomizedSearch(clf, param_rs, X, y.values.ravel())"
   ]
  },
  {
   "cell_type": "code",
   "execution_count": null,
   "id": "d25cd11d-d2fb-4a22-9288-042a8649784e",
   "metadata": {},
   "outputs": [],
   "source": []
  }
 ],
 "metadata": {
  "kernelspec": {
   "display_name": "Python 3 (ipykernel)",
   "language": "python",
   "name": "python3"
  },
  "language_info": {
   "codemirror_mode": {
    "name": "ipython",
    "version": 3
   },
   "file_extension": ".py",
   "mimetype": "text/x-python",
   "name": "python",
   "nbconvert_exporter": "python",
   "pygments_lexer": "ipython3",
   "version": "3.9.13"
  }
 },
 "nbformat": 4,
 "nbformat_minor": 5
}
