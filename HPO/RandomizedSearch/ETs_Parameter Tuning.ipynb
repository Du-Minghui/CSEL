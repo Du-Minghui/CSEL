{
 "cells": [
  {
   "cell_type": "code",
   "execution_count": 1,
   "id": "c784c432-b487-4eaa-82d9-46a69e50df1d",
   "metadata": {},
   "outputs": [],
   "source": [
    "import pandas as pd\n",
    "import numpy as np\n",
    "from sklearn.model_selection import KFold\n",
    "from sklearn import svm, linear_model, ensemble\n",
    "from sklearn import model_selection\n",
    "from sklearn.metrics import accuracy_score\n",
    "import warnings\n",
    "warnings.filterwarnings(\"ignore\")"
   ]
  },
  {
   "cell_type": "code",
   "execution_count": 2,
   "id": "f795e91c-edb1-4439-a414-4fee0ffe2edb",
   "metadata": {},
   "outputs": [],
   "source": [
    "from sklearn.model_selection import RandomizedSearchCV\n",
    "from scipy.stats import randint, uniform"
   ]
  },
  {
   "cell_type": "code",
   "execution_count": 3,
   "id": "2198f8b1-a4a6-47ac-a232-ffd3ab9b9613",
   "metadata": {},
   "outputs": [],
   "source": [
    "labels = pd.read_csv(\"lable(3.1).csv\", index_col=0 )\n",
    "data = pd.read_csv(\"mibig(3.1).csv\", index_col=0 )"
   ]
  },
  {
   "cell_type": "code",
   "execution_count": 4,
   "id": "0a731e58-35ab-49bc-b190-c775645fd592",
   "metadata": {},
   "outputs": [],
   "source": [
    "def get_sample_responses(vectors, responses):\n",
    "    samples = vectors\n",
    "    index = list(set(samples.index).intersection(set(labels.index)))\n",
    "    responses = responses.loc[index]\n",
    "    samples = samples.loc[index]\n",
    "    return samples, responses"
   ]
  },
  {
   "cell_type": "code",
   "execution_count": 5,
   "id": "9458b78e-bb0a-4139-9d0b-7ca4aea98e77",
   "metadata": {},
   "outputs": [],
   "source": [
    "X , y = get_sample_responses(data, labels)"
   ]
  },
  {
   "cell_type": "code",
   "execution_count": 6,
   "id": "d8a377a3-42f1-4993-a46b-6d0a67fe838b",
   "metadata": {},
   "outputs": [],
   "source": [
    "def RandomizedSearch(clf, params, X, y):\n",
    "    rscv = RandomizedSearchCV(clf, params, scoring='accuracy', n_iter=1000, n_jobs=-1, cv=5)\n",
    "    rscv.fit(X, y)\n",
    "    print(\"The best acc: \", rscv.best_score_)\n",
    "    print(\"The best params: \", rscv.best_params_)"
   ]
  },
  {
   "cell_type": "code",
   "execution_count": 7,
   "id": "030b58b9-501c-46d0-bbc7-f9fc03226506",
   "metadata": {},
   "outputs": [],
   "source": [
    "clf = ensemble.ExtraTreesClassifier(bootstrap=False,n_jobs=-1)"
   ]
  },
  {
   "cell_type": "code",
   "execution_count": 8,
   "id": "9d40c27b-bba6-43b5-9d0a-bc27be2b160f",
   "metadata": {},
   "outputs": [],
   "source": [
    "param_rs = {\n",
    "    'n_estimators': randint(1, 200),\n",
    "    'criterion': ['gini','entropy'],\n",
    "    'min_samples_split': randint(2, 50),\n",
    "    'min_samples_leaf': randint(1, 10),\n",
    "    'max_features': ['auto', 'sqrt', 'log2'],\n",
    "    'class_weight': ['balanced','balanced_subsample']\n",
    "}"
   ]
  },
  {
   "cell_type": "code",
   "execution_count": 9,
   "id": "4ea6a33d-fbf0-48fd-8ae1-67439234dc0c",
   "metadata": {},
   "outputs": [
    {
     "name": "stdout",
     "output_type": "stream",
     "text": [
      "The best acc:  0.745313492063492\n",
      "The best params:  {'class_weight': 'balanced_subsample', 'criterion': 'entropy', 'max_features': 'log2', 'min_samples_leaf': 1, 'min_samples_split': 2, 'n_estimators': 131}\n"
     ]
    }
   ],
   "source": [
    "rscv = RandomizedSearch(clf, param_rs, X, y.values.ravel())"
   ]
  },
  {
   "cell_type": "code",
   "execution_count": null,
   "id": "d7c38967-1ec6-466f-b359-ebe6f6258591",
   "metadata": {},
   "outputs": [],
   "source": []
  }
 ],
 "metadata": {
  "kernelspec": {
   "display_name": "Python 3 (ipykernel)",
   "language": "python",
   "name": "python3"
  },
  "language_info": {
   "codemirror_mode": {
    "name": "ipython",
    "version": 3
   },
   "file_extension": ".py",
   "mimetype": "text/x-python",
   "name": "python",
   "nbconvert_exporter": "python",
   "pygments_lexer": "ipython3",
   "version": "3.9.13"
  }
 },
 "nbformat": 4,
 "nbformat_minor": 5
}
