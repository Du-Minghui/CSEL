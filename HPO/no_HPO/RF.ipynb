{
 "cells": [
  {
   "cell_type": "code",
   "execution_count": 1,
   "id": "ec74ebb5-d3da-49b6-b4cb-127ef0010a8c",
   "metadata": {},
   "outputs": [],
   "source": [
    "import pandas as pd\n",
    "import numpy as np\n",
    "from sklearn.model_selection import KFold\n",
    "from sklearn import svm, linear_model, ensemble\n",
    "from sklearn import model_selection\n",
    "import warnings\n",
    "warnings.filterwarnings(\"ignore\")\n",
    "from sklearn.metrics import accuracy_score"
   ]
  },
  {
   "cell_type": "code",
   "execution_count": 2,
   "id": "29838242-9121-4af8-919e-9079f1985985",
   "metadata": {},
   "outputs": [],
   "source": [
    "labels = pd.read_csv(\"antibacterial_lable.csv\", index_col=0 )\n",
    "data = pd.read_csv(\"mibig(antismash).csv\", index_col=0 )"
   ]
  },
  {
   "cell_type": "code",
   "execution_count": 3,
   "id": "8fca142d-d280-4e4a-a51b-99539f6b6408",
   "metadata": {},
   "outputs": [],
   "source": [
    "def get_sample_responses(vectors, responses):\n",
    "    samples = vectors\n",
    "    index = list(set(samples.index).intersection(set(labels.index)))\n",
    "    responses = responses.loc[index]\n",
    "    samples = samples.loc[index]\n",
    "    return samples, responses"
   ]
  },
  {
   "cell_type": "code",
   "execution_count": 4,
   "id": "f21e255e-3f3c-4af3-9d8a-f03840f03b07",
   "metadata": {},
   "outputs": [],
   "source": [
    "X , y = get_sample_responses(data, labels)\n",
    "bgc_ids = pd.Series(y.index)"
   ]
  },
  {
   "cell_type": "code",
   "execution_count": 5,
   "id": "3ade6b10-cbe0-4f50-91c6-e19eac606cc1",
   "metadata": {},
   "outputs": [
    {
     "name": "stdout",
     "output_type": "stream",
     "text": [
      "avg.acc: 0.7285865079365078\n"
     ]
    }
   ],
   "source": [
    "clf = ensemble.RandomForestClassifier(bootstrap=False,n_jobs=-1)\n",
    "    \n",
    "acc_kf = []\n",
    "\n",
    "for r in range(1000):\n",
    "\n",
    "    cv = KFold(n_splits=5,random_state=r,shuffle=True)\n",
    "    for i, (id_train, id_val) in enumerate(cv.split(bgc_ids)):\n",
    "        train_ids, val_ids = bgc_ids[id_train], bgc_ids[id_val]\n",
    "        X_train, X_val = X.loc[train_ids].values, X.loc[val_ids].values\n",
    "        y_train, y_val = y.loc[train_ids].values, y.loc[val_ids].values\n",
    "        #print('Train:', len(X_train), 'Test:', len(X_val))\n",
    "    \n",
    "        clf.fit(X_train, y_train)\n",
    "        pred = clf.predict(X_val)\n",
    "    \n",
    "        acc = accuracy_score(pred, y_val)\n",
    "        acc_kf.append(acc)\n",
    "        \n",
    "acc_kf = np.array(acc_kf).mean()\n",
    "\n",
    "print('avg.acc:',acc_kf)"
   ]
  },
  {
   "cell_type": "code",
   "execution_count": null,
   "id": "1eb1482f-9a2b-4fba-ab95-a93d18fa5c08",
   "metadata": {},
   "outputs": [],
   "source": []
  }
 ],
 "metadata": {
  "kernelspec": {
   "display_name": "Python 3 (ipykernel)",
   "language": "python",
   "name": "python3"
  },
  "language_info": {
   "codemirror_mode": {
    "name": "ipython",
    "version": 3
   },
   "file_extension": ".py",
   "mimetype": "text/x-python",
   "name": "python",
   "nbconvert_exporter": "python",
   "pygments_lexer": "ipython3",
   "version": "3.9.13"
  }
 },
 "nbformat": 4,
 "nbformat_minor": 5
}
