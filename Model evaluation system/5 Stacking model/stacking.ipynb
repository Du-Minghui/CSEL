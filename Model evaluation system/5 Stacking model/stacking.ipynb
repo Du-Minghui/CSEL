{
 "cells": [
  {
   "cell_type": "code",
   "execution_count": 1,
   "id": "e2a5bcda",
   "metadata": {},
   "outputs": [],
   "source": [
    "import sqlite3, pandas as pd, numpy as np, nltk, string, matplotlib.pyplot as plt, seaborn as sns\n",
    "import string, math, pickle\n",
    "from sklearn import svm, tree, linear_model, neighbors, naive_bayes, ensemble, discriminant_analysis, gaussian_process\n",
    "from mlxtend.classifier import StackingClassifier\n",
    "from pycm import *\n",
    "from sklearn.model_selection import KFold\n",
    "from sklearn import model_selection\n",
    "from sklearn.model_selection import cross_val_score\n",
    "import warnings\n",
    "warnings.filterwarnings(\"ignore\")"
   ]
  },
  {
   "cell_type": "code",
   "execution_count": 2,
   "id": "d739ba44",
   "metadata": {},
   "outputs": [],
   "source": [
    "label = pd.read_csv(\"Activity_antibacterial.csv\", index_col=0 )\n",
    "data = pd.read_csv(\"Activity_training.csv\", index_col=0 )"
   ]
  },
  {
   "cell_type": "code",
   "execution_count": 3,
   "id": "d6259cf7",
   "metadata": {},
   "outputs": [],
   "source": [
    "X = data\n",
    "y = label.values.ravel()\n",
    "bgc_ids = pd.Series(data.index)"
   ]
  },
  {
   "cell_type": "code",
   "execution_count": 4,
   "id": "fc6937ee",
   "metadata": {},
   "outputs": [],
   "source": [
    "rf = ensemble.RandomForestClassifier()\n",
    "ets = ensemble.ExtraTreesClassifier()\n",
    "nusvm = svm.NuSVC(probability=True)\n",
    "ridge = linear_model.RidgeClassifierCV()\n",
    "lr = linear_model.LogisticRegressionCV()"
   ]
  },
  {
   "cell_type": "code",
   "execution_count": 5,
   "id": "08290a55",
   "metadata": {},
   "outputs": [],
   "source": [
    "model = StackingClassifier(classifiers=[rf,ets,nusvm,ridge], meta_classifier= lr)"
   ]
  },
  {
   "cell_type": "code",
   "execution_count": 6,
   "id": "f5d84664",
   "metadata": {},
   "outputs": [
    {
     "name": "stdout",
     "output_type": "stream",
     "text": [
      "Train: 321 Test: 81\n",
      "Train: 321 Test: 81\n",
      "Train: 322 Test: 80\n",
      "Train: 322 Test: 80\n",
      "Train: 322 Test: 80\n"
     ]
    }
   ],
   "source": [
    "all_summary = []\n",
    "class_summary = []\n",
    "cv = KFold(n_splits=5,random_state=0,shuffle=True)\n",
    "for i, (id_train, id_val) in enumerate(cv.split(bgc_ids)):\n",
    "    train_ids, val_ids = bgc_ids[id_train], bgc_ids[id_val]\n",
    "    X_train, X_val = data.loc[train_ids].values, data.loc[val_ids].values\n",
    "    y_train, y_val = label.loc[train_ids].values, label.loc[val_ids].values\n",
    "    print('Train:', len(X_train), 'Test:', len(X_val))\n",
    "    \n",
    "    model.fit(X_train, y_train)\n",
    "    \n",
    "    y_pred = model.predict(X_val)\n",
    "    y_true = y_val.flatten()\n",
    "    cm = ConfusionMatrix(actual_vector=y_true, predict_vector=y_pred)\n",
    "    \n",
    "    all_columns = pd.DataFrame(cm.overall_stat).columns\n",
    "    all_ = pd.DataFrame(cm.overall_stat)[1:2].values\n",
    "    all_summary.append(all_[0])\n",
    "    \n",
    "    class_columns = pd.DataFrame(cm.class_stat).columns\n",
    "    class_ = pd.DataFrame(cm.class_stat)[1:2].values\n",
    "    class_summary.append(class_[0])   \n",
    "\n",
    "all_stat = pd.DataFrame(all_summary,columns=[all_columns]).mean()\n",
    "all_stat = all_stat.T\n",
    "class_stat = pd.DataFrame(class_summary,columns=[class_columns]).mean()\n",
    "class_stat = class_stat.T\n",
    "\n",
    "metric = pd.concat([all_stat, class_stat], axis=0)\n",
    "\n",
    "metric.to_csv(\"metric_stacking_lr.csv\")"
   ]
  },
  {
   "cell_type": "code",
   "execution_count": null,
   "id": "b97923ba",
   "metadata": {},
   "outputs": [],
   "source": []
  }
 ],
 "metadata": {
  "kernelspec": {
   "display_name": "Python 3 (ipykernel)",
   "language": "python",
   "name": "python3"
  },
  "language_info": {
   "codemirror_mode": {
    "name": "ipython",
    "version": 3
   },
   "file_extension": ".py",
   "mimetype": "text/x-python",
   "name": "python",
   "nbconvert_exporter": "python",
   "pygments_lexer": "ipython3",
   "version": "3.7.9"
  }
 },
 "nbformat": 4,
 "nbformat_minor": 5
}
