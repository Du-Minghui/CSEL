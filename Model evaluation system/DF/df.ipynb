{
 "cells": [
  {
   "cell_type": "code",
   "execution_count": 1,
   "id": "4db49447",
   "metadata": {},
   "outputs": [],
   "source": [
    "import numpy as np\n",
    "import pandas as pd\n",
    "import matplotlib.pyplot as plt\n",
    "from pycm import *"
   ]
  },
  {
   "cell_type": "code",
   "execution_count": 2,
   "id": "19d0ae3c",
   "metadata": {},
   "outputs": [],
   "source": [
    "from sklearn.model_selection import KFold\n",
    "from sklearn.metrics import accuracy_score"
   ]
  },
  {
   "cell_type": "code",
   "execution_count": 3,
   "id": "4341db11",
   "metadata": {},
   "outputs": [],
   "source": [
    "from deepforest import CascadeForestClassifier"
   ]
  },
  {
   "cell_type": "code",
   "execution_count": 4,
   "id": "230c5830",
   "metadata": {},
   "outputs": [],
   "source": [
    "label = pd.read_csv(\"lable(1.3).csv\", index_col=0 )\n",
    "data = pd.read_csv(\"mibig(1.3).csv\", index_col=0 )"
   ]
  },
  {
   "cell_type": "code",
   "execution_count": 5,
   "id": "5e99daa1",
   "metadata": {},
   "outputs": [],
   "source": [
    "X = data\n",
    "y = label.values.ravel()\n",
    "bgc_ids = pd.Series(data.index)"
   ]
  },
  {
   "cell_type": "code",
   "execution_count": 12,
   "id": "11eab8ba",
   "metadata": {
    "scrolled": true
   },
   "outputs": [
    {
     "name": "stdout",
     "output_type": "stream",
     "text": [
      "Train: 321 Test: 81\n",
      "Train: 321 Test: 81\n",
      "Train: 322 Test: 80\n",
      "Train: 322 Test: 80\n",
      "Train: 322 Test: 80\n",
      "[2022-11-02 09:08:58.370] Start to fit the model:\n",
      "[2022-11-02 09:08:58.370] Fitting cascade layer = 0 \n"
     ]
    },
    {
     "name": "stderr",
     "output_type": "stream",
     "text": [
      "c:\\python37\\lib\\site-packages\\sklearn\\utils\\validation.py:993: DataConversionWarning: A column-vector y was passed when a 1d array was expected. Please change the shape of y to (n_samples, ), for example using ravel().\n",
      "  y = column_or_1d(y, warn=True)\n"
     ]
    },
    {
     "name": "stdout",
     "output_type": "stream",
     "text": [
      "[2022-11-02 09:08:58.880] layer = 0  | Val Acc = 66.770 % | Elapsed = 0.510 s\n",
      "[2022-11-02 09:08:58.882] Fitting cascade layer = 1 \n",
      "[2022-11-02 09:08:59.206] layer = 1  | Val Acc = 68.634 % | Elapsed = 0.325 s\n",
      "[2022-11-02 09:08:59.206] Fitting cascade layer = 2 \n",
      "[2022-11-02 09:08:59.565] layer = 2  | Val Acc = 66.770 % | Elapsed = 0.358 s\n",
      "[2022-11-02 09:08:59.565] Early stopping counter: 1 out of 2\n",
      "[2022-11-02 09:08:59.566] Fitting cascade layer = 3 \n",
      "[2022-11-02 09:08:59.894] layer = 3  | Val Acc = 70.186 % | Elapsed = 0.328 s\n",
      "[2022-11-02 09:08:59.894] Fitting cascade layer = 4 \n",
      "[2022-11-02 09:09:00.258] layer = 4  | Val Acc = 71.739 % | Elapsed = 0.364 s\n",
      "[2022-11-02 09:09:00.258] Fitting cascade layer = 5 \n",
      "[2022-11-02 09:09:00.597] layer = 5  | Val Acc = 69.565 % | Elapsed = 0.339 s\n",
      "[2022-11-02 09:09:00.597] Early stopping counter: 1 out of 2\n",
      "[2022-11-02 09:09:00.597] Fitting cascade layer = 6 \n",
      "[2022-11-02 09:09:00.940] layer = 6  | Val Acc = 67.702 % | Elapsed = 0.344 s\n",
      "[2022-11-02 09:09:00.940] Early stopping counter: 2 out of 2\n",
      "[2022-11-02 09:09:00.940] Handling early stopping\n",
      "[2022-11-02 09:09:00.940] The optimal number of layers: 5\n",
      "[2022-11-02 09:09:00.940] Start to evalute the model:\n",
      "[2022-11-02 09:09:00.940] Evaluating cascade layer = 0 \n",
      "[2022-11-02 09:09:00.940] Evaluating cascade layer = 1 \n",
      "[2022-11-02 09:09:00.956] Evaluating cascade layer = 2 \n",
      "[2022-11-02 09:09:00.972] Evaluating cascade layer = 3 \n",
      "[2022-11-02 09:09:00.972] Evaluating cascade layer = 4 \n",
      "Train: 321 Test: 81\n",
      "Train: 321 Test: 81\n",
      "Train: 322 Test: 80\n",
      "Train: 322 Test: 80\n",
      "Train: 322 Test: 80\n",
      "[2022-11-02 09:09:01.050] Start to fit the model:\n",
      "[2022-11-02 09:09:01.050] Fitting cascade layer = 0 \n"
     ]
    },
    {
     "name": "stderr",
     "output_type": "stream",
     "text": [
      "c:\\python37\\lib\\site-packages\\sklearn\\utils\\validation.py:993: DataConversionWarning: A column-vector y was passed when a 1d array was expected. Please change the shape of y to (n_samples, ), for example using ravel().\n",
      "  y = column_or_1d(y, warn=True)\n"
     ]
    },
    {
     "name": "stdout",
     "output_type": "stream",
     "text": [
      "[2022-11-02 09:09:01.550] layer = 0  | Val Acc = 66.460 % | Elapsed = 0.500 s\n",
      "[2022-11-02 09:09:01.550] Fitting cascade layer = 1 \n",
      "[2022-11-02 09:09:01.894] layer = 1  | Val Acc = 67.081 % | Elapsed = 0.344 s\n",
      "[2022-11-02 09:09:01.894] Fitting cascade layer = 2 \n",
      "[2022-11-02 09:09:02.237] layer = 2  | Val Acc = 69.255 % | Elapsed = 0.343 s\n",
      "[2022-11-02 09:09:02.237] Fitting cascade layer = 3 \n",
      "[2022-11-02 09:09:02.582] layer = 3  | Val Acc = 67.081 % | Elapsed = 0.344 s\n",
      "[2022-11-02 09:09:02.582] Early stopping counter: 1 out of 2\n",
      "[2022-11-02 09:09:02.582] Fitting cascade layer = 4 \n",
      "[2022-11-02 09:09:02.925] layer = 4  | Val Acc = 67.702 % | Elapsed = 0.343 s\n",
      "[2022-11-02 09:09:02.925] Early stopping counter: 2 out of 2\n",
      "[2022-11-02 09:09:02.925] Handling early stopping\n",
      "[2022-11-02 09:09:02.925] The optimal number of layers: 3\n",
      "[2022-11-02 09:09:02.925] Start to evalute the model:\n",
      "[2022-11-02 09:09:02.925] Evaluating cascade layer = 0 \n",
      "[2022-11-02 09:09:02.925] Evaluating cascade layer = 1 \n",
      "[2022-11-02 09:09:02.941] Evaluating cascade layer = 2 \n",
      "Train: 321 Test: 81\n",
      "Train: 321 Test: 81\n",
      "Train: 322 Test: 80\n",
      "Train: 322 Test: 80\n",
      "Train: 322 Test: 80\n",
      "[2022-11-02 09:09:03.003] Start to fit the model:\n",
      "[2022-11-02 09:09:03.003] Fitting cascade layer = 0 \n"
     ]
    },
    {
     "name": "stderr",
     "output_type": "stream",
     "text": [
      "c:\\python37\\lib\\site-packages\\sklearn\\utils\\validation.py:993: DataConversionWarning: A column-vector y was passed when a 1d array was expected. Please change the shape of y to (n_samples, ), for example using ravel().\n",
      "  y = column_or_1d(y, warn=True)\n"
     ]
    },
    {
     "name": "stdout",
     "output_type": "stream",
     "text": [
      "[2022-11-02 09:09:03.519] layer = 0  | Val Acc = 68.634 % | Elapsed = 0.516 s\n",
      "[2022-11-02 09:09:03.519] Fitting cascade layer = 1 \n",
      "[2022-11-02 09:09:03.863] layer = 1  | Val Acc = 67.391 % | Elapsed = 0.344 s\n",
      "[2022-11-02 09:09:03.863] Early stopping counter: 1 out of 2\n",
      "[2022-11-02 09:09:03.863] Fitting cascade layer = 2 \n",
      "[2022-11-02 09:09:04.191] layer = 2  | Val Acc = 68.012 % | Elapsed = 0.328 s\n",
      "[2022-11-02 09:09:04.191] Early stopping counter: 2 out of 2\n",
      "[2022-11-02 09:09:04.191] Handling early stopping\n",
      "[2022-11-02 09:09:04.191] The optimal number of layers: 1\n",
      "[2022-11-02 09:09:04.191] Start to evalute the model:\n",
      "[2022-11-02 09:09:04.191] Evaluating cascade layer = 0 \n",
      "Train: 321 Test: 81\n",
      "Train: 321 Test: 81\n",
      "Train: 322 Test: 80\n",
      "Train: 322 Test: 80\n",
      "Train: 322 Test: 80\n",
      "[2022-11-02 09:09:04.269] Start to fit the model:\n",
      "[2022-11-02 09:09:04.269] Fitting cascade layer = 0 \n"
     ]
    },
    {
     "name": "stderr",
     "output_type": "stream",
     "text": [
      "c:\\python37\\lib\\site-packages\\sklearn\\utils\\validation.py:993: DataConversionWarning: A column-vector y was passed when a 1d array was expected. Please change the shape of y to (n_samples, ), for example using ravel().\n",
      "  y = column_or_1d(y, warn=True)\n"
     ]
    },
    {
     "name": "stdout",
     "output_type": "stream",
     "text": [
      "[2022-11-02 09:09:04.769] layer = 0  | Val Acc = 65.528 % | Elapsed = 0.500 s\n",
      "[2022-11-02 09:09:04.769] Fitting cascade layer = 1 \n",
      "[2022-11-02 09:09:05.113] layer = 1  | Val Acc = 66.770 % | Elapsed = 0.343 s\n",
      "[2022-11-02 09:09:05.113] Fitting cascade layer = 2 \n",
      "[2022-11-02 09:09:05.440] layer = 2  | Val Acc = 67.391 % | Elapsed = 0.328 s\n",
      "[2022-11-02 09:09:05.440] Fitting cascade layer = 3 \n",
      "[2022-11-02 09:09:05.784] layer = 3  | Val Acc = 69.876 % | Elapsed = 0.344 s\n",
      "[2022-11-02 09:09:05.784] Fitting cascade layer = 4 \n",
      "[2022-11-02 09:09:06.113] layer = 4  | Val Acc = 66.460 % | Elapsed = 0.328 s\n",
      "[2022-11-02 09:09:06.113] Early stopping counter: 1 out of 2\n",
      "[2022-11-02 09:09:06.113] Fitting cascade layer = 5 \n",
      "[2022-11-02 09:09:06.456] layer = 5  | Val Acc = 66.770 % | Elapsed = 0.343 s\n",
      "[2022-11-02 09:09:06.456] Early stopping counter: 2 out of 2\n",
      "[2022-11-02 09:09:06.456] Handling early stopping\n",
      "[2022-11-02 09:09:06.456] The optimal number of layers: 4\n",
      "[2022-11-02 09:09:06.456] Start to evalute the model:\n",
      "[2022-11-02 09:09:06.456] Evaluating cascade layer = 0 \n",
      "[2022-11-02 09:09:06.472] Evaluating cascade layer = 1 \n",
      "[2022-11-02 09:09:06.472] Evaluating cascade layer = 2 \n",
      "[2022-11-02 09:09:06.487] Evaluating cascade layer = 3 \n",
      "Train: 321 Test: 81\n",
      "Train: 321 Test: 81\n",
      "Train: 322 Test: 80\n",
      "Train: 322 Test: 80\n",
      "Train: 322 Test: 80\n",
      "[2022-11-02 09:09:06.550] Start to fit the model:\n",
      "[2022-11-02 09:09:06.550] Fitting cascade layer = 0 \n"
     ]
    },
    {
     "name": "stderr",
     "output_type": "stream",
     "text": [
      "c:\\python37\\lib\\site-packages\\sklearn\\utils\\validation.py:993: DataConversionWarning: A column-vector y was passed when a 1d array was expected. Please change the shape of y to (n_samples, ), for example using ravel().\n",
      "  y = column_or_1d(y, warn=True)\n"
     ]
    },
    {
     "name": "stdout",
     "output_type": "stream",
     "text": [
      "[2022-11-02 09:09:07.065] layer = 0  | Val Acc = 63.043 % | Elapsed = 0.516 s\n",
      "[2022-11-02 09:09:07.065] Fitting cascade layer = 1 \n",
      "[2022-11-02 09:09:07.410] layer = 1  | Val Acc = 64.596 % | Elapsed = 0.344 s\n",
      "[2022-11-02 09:09:07.410] Fitting cascade layer = 2 \n",
      "[2022-11-02 09:09:07.753] layer = 2  | Val Acc = 59.627 % | Elapsed = 0.343 s\n",
      "[2022-11-02 09:09:07.753] Early stopping counter: 1 out of 2\n",
      "[2022-11-02 09:09:07.753] Fitting cascade layer = 3 \n",
      "[2022-11-02 09:09:08.097] layer = 3  | Val Acc = 64.907 % | Elapsed = 0.344 s\n",
      "[2022-11-02 09:09:08.097] Fitting cascade layer = 4 \n",
      "[2022-11-02 09:09:08.440] layer = 4  | Val Acc = 62.422 % | Elapsed = 0.343 s\n",
      "[2022-11-02 09:09:08.440] Early stopping counter: 1 out of 2\n",
      "[2022-11-02 09:09:08.440] Fitting cascade layer = 5 \n",
      "[2022-11-02 09:09:08.784] layer = 5  | Val Acc = 66.149 % | Elapsed = 0.344 s\n",
      "[2022-11-02 09:09:08.800] Fitting cascade layer = 6 \n",
      "[2022-11-02 09:09:09.144] layer = 6  | Val Acc = 61.491 % | Elapsed = 0.344 s\n",
      "[2022-11-02 09:09:09.144] Early stopping counter: 1 out of 2\n",
      "[2022-11-02 09:09:09.144] Fitting cascade layer = 7 \n",
      "[2022-11-02 09:09:09.488] layer = 7  | Val Acc = 64.907 % | Elapsed = 0.344 s\n",
      "[2022-11-02 09:09:09.488] Early stopping counter: 2 out of 2\n",
      "[2022-11-02 09:09:09.488] Handling early stopping\n",
      "[2022-11-02 09:09:09.488] The optimal number of layers: 6\n",
      "[2022-11-02 09:09:09.488] Start to evalute the model:\n",
      "[2022-11-02 09:09:09.488] Evaluating cascade layer = 0 \n",
      "[2022-11-02 09:09:09.503] Evaluating cascade layer = 1 \n",
      "[2022-11-02 09:09:09.503] Evaluating cascade layer = 2 \n",
      "[2022-11-02 09:09:09.519] Evaluating cascade layer = 3 \n",
      "[2022-11-02 09:09:09.535] Evaluating cascade layer = 4 \n",
      "[2022-11-02 09:09:09.535] Evaluating cascade layer = 5 \n"
     ]
    },
    {
     "name": "stderr",
     "output_type": "stream",
     "text": [
      "c:\\python37\\lib\\site-packages\\ipykernel_launcher.py:27: FutureWarning: Dropping of nuisance columns in DataFrame reductions (with 'numeric_only=None') is deprecated; in a future version this will raise TypeError.  Select only valid columns before calling the reduction.\n",
      "c:\\python37\\lib\\site-packages\\ipykernel_launcher.py:29: FutureWarning: Dropping of nuisance columns in DataFrame reductions (with 'numeric_only=None') is deprecated; in a future version this will raise TypeError.  Select only valid columns before calling the reduction.\n"
     ]
    }
   ],
   "source": [
    "all_summary = []\n",
    "class_summary = []\n",
    "for r in range(0,5):\n",
    "    cv = KFold(n_splits=5,random_state=r,shuffle=True)\n",
    "    for i, (id_train, id_val) in enumerate(cv.split(bgc_ids)):\n",
    "        train_ids, val_ids = bgc_ids[id_train], bgc_ids[id_val]\n",
    "        X_train, X_val = data.loc[train_ids].values, data.loc[val_ids].values\n",
    "        y_train, y_val = label.loc[train_ids].values, label.loc[val_ids].values\n",
    "        print('Train:', len(X_train), 'Test:', len(X_val))\n",
    "        \n",
    "    model = CascadeForestClassifier(random_state=1)\n",
    "    model.fit(X_train,y_train)\n",
    "    \n",
    "    y_pred = model.predict(X_val)\n",
    "    y_true = y_val.flatten()\n",
    "    \n",
    "    cm = ConfusionMatrix(actual_vector=y_true, predict_vector=y_pred)\n",
    "   \n",
    "    all_columns = pd.DataFrame(cm.overall_stat).columns\n",
    "    all_ = pd.DataFrame(cm.overall_stat)[1:2].values\n",
    "    all_summary.append(all_[0])\n",
    "    \n",
    "    class_columns = pd.DataFrame(cm.class_stat).columns\n",
    "    class_ = pd.DataFrame(cm.class_stat)[1:2].values\n",
    "    class_summary.append(class_[0])   \n",
    "\n",
    "all_stat = pd.DataFrame(all_summary,columns=[all_columns]).mean()\n",
    "all_stat = all_stat.T\n",
    "class_stat = pd.DataFrame(class_summary,columns=[class_columns]).mean()\n",
    "class_stat = class_stat.T\n",
    "\n",
    "metric = pd.concat([all_stat, class_stat], axis=0)"
   ]
  },
  {
   "cell_type": "code",
   "execution_count": 13,
   "id": "e6c7c8bd",
   "metadata": {},
   "outputs": [
    {
     "data": {
      "text/plain": [
       "Overall ACC       0.667500\n",
       "Overall RACCU     0.507828\n",
       "Overall RACC      0.501625\n",
       "Kappa             0.332177\n",
       "Gwet AC1          0.345615\n",
       "                   ...    \n",
       "OOC               0.630566\n",
       "AUPR              0.635679\n",
       "ICSI              0.271359\n",
       "HD               26.600000\n",
       "BB                0.566066\n",
       "Length: 114, dtype: float64"
      ]
     },
     "execution_count": 13,
     "metadata": {},
     "output_type": "execute_result"
    }
   ],
   "source": [
    "metric.to_csv(\"metric_df.csv\")"
   ]
  },
  {
   "cell_type": "code",
   "execution_count": null,
   "id": "f55d4673",
   "metadata": {},
   "outputs": [],
   "source": []
  }
 ],
 "metadata": {
  "kernelspec": {
   "display_name": "Python 3 (ipykernel)",
   "language": "python",
   "name": "python3"
  },
  "language_info": {
   "codemirror_mode": {
    "name": "ipython",
    "version": 3
   },
   "file_extension": ".py",
   "mimetype": "text/x-python",
   "name": "python",
   "nbconvert_exporter": "python",
   "pygments_lexer": "ipython3",
   "version": "3.7.9"
  }
 },
 "nbformat": 4,
 "nbformat_minor": 5
}
