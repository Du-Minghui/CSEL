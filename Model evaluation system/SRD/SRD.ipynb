{
 "cells": [
  {
   "cell_type": "code",
   "execution_count": 1,
   "id": "d2412944",
   "metadata": {},
   "outputs": [],
   "source": [
    "import numpy as np\n",
    "import pandas as pd\n",
    "import math\n",
    "import srd"
   ]
  },
  {
   "cell_type": "code",
   "execution_count": 2,
   "id": "822c4d72",
   "metadata": {},
   "outputs": [],
   "source": [
    "import matplotlib.pyplot as plt\n",
    "plt.rcParams[\"font.family\"] = \"Arial\"\n",
    "plt.rcParams['axes.unicode_minus'] = False  \n",
    "plt.rcParams['pdf.fonttype'] = 42\n",
    "plt.rcParams['ps.fonttype'] = 42"
   ]
  },
  {
   "cell_type": "code",
   "execution_count": 3,
   "id": "1b9760bb",
   "metadata": {},
   "outputs": [],
   "source": [
    "p_m = pd.read_csv('p_metric_29.csv',index_col=0)\n",
    "n_m = pd.read_csv('n_metric_29.csv',index_col=0)"
   ]
  },
  {
   "cell_type": "code",
   "execution_count": 4,
   "id": "6acb222f",
   "metadata": {},
   "outputs": [],
   "source": [
    "df = pd.concat([p_m,n_m])"
   ]
  },
  {
   "cell_type": "code",
   "execution_count": 5,
   "id": "afa8d335",
   "metadata": {},
   "outputs": [],
   "source": [
    "ref1 = 'max'\n",
    "refVector1 = srd.calc_ref(p_m , ref1)\n",
    "ref2 = 'min'\n",
    "refVector2 = srd.calc_ref(n_m , ref2)\n",
    "refVector = pd.concat([refVector1,refVector2])"
   ]
  },
  {
   "cell_type": "code",
   "execution_count": 6,
   "id": "bd04820c",
   "metadata": {},
   "outputs": [
    {
     "data": {
      "text/plain": [
       "Metric\n",
       "Overall ACC      0.786204\n",
       "Overall RACCU    0.555807\n",
       "Overall RACC     0.523609\n",
       "Kappa            0.565771\n",
       "Gwet AC1         0.582302\n",
       "                   ...   \n",
       "dInd             0.310117\n",
       "CEN              0.625765\n",
       "MCEN             0.675151\n",
       "Overall CEN      0.586283\n",
       "Overall MCEN     0.460776\n",
       "Length: 78, dtype: float64"
      ]
     },
     "execution_count": 6,
     "metadata": {},
     "output_type": "execute_result"
    }
   ],
   "source": [
    "refVector"
   ]
  },
  {
   "cell_type": "code",
   "execution_count": 7,
   "id": "538e191d",
   "metadata": {},
   "outputs": [
    {
     "data": {
      "text/plain": [
       "CSEL               8.021039\n",
       "Stacking_NuSCV    20.775805\n",
       "Stacking_Ridge    20.052597\n",
       "Stacking_RF       21.236029\n",
       "Stacking_ETs      21.893491\n",
       "Stacking_LR       22.419461\n",
       "DF                24.457594\n",
       "Ada               30.177515\n",
       "Bagging           27.613412\n",
       "BNB               30.473373\n",
       "DT                33.859303\n",
       "ET                34.188034\n",
       "ETs               20.775805\n",
       "GBC               29.224195\n",
       "GNB               36.226167\n",
       "GP                35.765943\n",
       "KNN               40.565417\n",
       "LDA               30.769231\n",
       "LinearSVC         29.783037\n",
       "LR                27.876397\n",
       "NuSVC             22.616700\n",
       "PA                30.703485\n",
       "Perceptron        27.087442\n",
       "QDA               45.693623\n",
       "RF                23.471400\n",
       "Ridge             22.419461\n",
       "SGD               29.322814\n",
       "SVC               28.566732\n",
       "XGB               28.665352\n",
       "dtype: float64"
      ]
     },
     "execution_count": 7,
     "metadata": {},
     "output_type": "execute_result"
    }
   ],
   "source": [
    "dfr=df.rank()\n",
    "rVr=refVector.rank()\n",
    "diffs=dfr.subtract(rVr,axis=0)\n",
    "\n",
    "srd_values=diffs.abs().sum()\n",
    "\n",
    "k=math.floor(len(df)/2)\n",
    "if len(df)%2 == 0:\n",
    "    maxSRD = 2*k**2\n",
    "else:\n",
    "    maxSRD = 2*k*(k+1)\n",
    "    \n",
    "srd_values=srd_values/maxSRD*100\n",
    "\n",
    "srd_values"
   ]
  },
  {
   "cell_type": "code",
   "execution_count": 8,
   "id": "ea70cd3f",
   "metadata": {},
   "outputs": [],
   "source": [
    "srd_values.to_csv(\"srd_values.csv\")"
   ]
  }
 ],
 "metadata": {
  "kernelspec": {
   "display_name": "Python 3 (ipykernel)",
   "language": "python",
   "name": "python3"
  },
  "language_info": {
   "codemirror_mode": {
    "name": "ipython",
    "version": 3
   },
   "file_extension": ".py",
   "mimetype": "text/x-python",
   "name": "python",
   "nbconvert_exporter": "python",
   "pygments_lexer": "ipython3",
   "version": "3.9.13"
  }
 },
 "nbformat": 4,
 "nbformat_minor": 5
}
