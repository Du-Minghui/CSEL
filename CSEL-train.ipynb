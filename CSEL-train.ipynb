{
 "cells": [
  {
   "cell_type": "code",
   "execution_count": 1,
   "id": "624c8c8d",
   "metadata": {},
   "outputs": [],
   "source": [
    "import sqlite3, pandas as pd, numpy as np, nltk, string, matplotlib.pyplot as plt, seaborn as sns\n",
    "import string, math, pickle,joblib\n",
    "import warnings\n",
    "warnings.filterwarnings(\"ignore\")\n",
    "from pycm import *\n",
    "from sklearn.model_selection import KFold\n",
    "from sklearn import svm, linear_model, ensemble\n",
    "from mlxtend.classifier import StackingClassifier\n",
    "from sklearn import model_selection\n",
    "from sklearn.model_selection import cross_val_score\n",
    "from sklearn.calibration import CalibratedClassifierCV\n",
    "from sklearn.metrics import accuracy_score\n",
    "from sklearn.model_selection import train_test_split\n",
    "from csel import cascade_model"
   ]
  },
  {
   "cell_type": "code",
   "execution_count": 2,
   "id": "9a69196e",
   "metadata": {},
   "outputs": [],
   "source": [
    "def get_sample_responses(vectors, responses):\n",
    "    samples = vectors\n",
    "    index = list(set(samples.index).intersection(set(labels.index)))\n",
    "    responses = responses.loc[index]\n",
    "    samples = samples.loc[index]\n",
    "    return samples, responses"
   ]
  },
  {
   "cell_type": "code",
   "execution_count": 3,
   "id": "d1e443ab",
   "metadata": {},
   "outputs": [],
   "source": [
    "labels = pd.read_csv(\"antibacterial_lable.csv\", index_col=0 )\n",
    "data = pd.read_csv(\"mibig(antismash).csv\", index_col=0 )"
   ]
  },
  {
   "cell_type": "code",
   "execution_count": 4,
   "id": "555ede4a",
   "metadata": {},
   "outputs": [
    {
     "name": "stdout",
     "output_type": "stream",
     "text": [
      "Train: 898 Test: 225\n",
      "================================\n",
      "Model starts...\n",
      "--------------------------------\n",
      "layer : 1 | acc : 0.761111\n",
      "layer : 2 | acc : 0.772222\n",
      "layer : 3 | acc : 0.761111\n",
      "================================\n",
      "Train: 898 Test: 225\n",
      "================================\n",
      "Model starts...\n",
      "--------------------------------\n",
      "layer : 1 | acc : 0.744444\n",
      "layer : 2 | acc : 0.733333\n",
      "================================\n",
      "Train: 898 Test: 225\n",
      "================================\n",
      "Model starts...\n",
      "--------------------------------\n",
      "layer : 1 | acc : 0.711111\n",
      "layer : 2 | acc : 0.716667\n",
      "layer : 3 | acc : 0.716667\n",
      "================================\n",
      "Train: 899 Test: 224\n",
      "================================\n",
      "Model starts...\n",
      "--------------------------------\n",
      "layer : 1 | acc : 0.738889\n",
      "layer : 2 | acc : 0.744444\n",
      "layer : 3 | acc : 0.738889\n",
      "================================\n",
      "Train: 899 Test: 224\n",
      "================================\n",
      "Model starts...\n",
      "--------------------------------\n",
      "layer : 1 | acc : 0.677778\n",
      "layer : 2 | acc : 0.677778\n",
      "================================\n"
     ]
    }
   ],
   "source": [
    "X , y = get_sample_responses(data, labels)\n",
    "bgc_ids = pd.Series(y.index)\n",
    "model = cascade_model()\n",
    "all_summary = []\n",
    "class_summary = []\n",
    "cv = KFold(n_splits=5,random_state=0,shuffle=True)\n",
    "for i, (id_train, id_val) in enumerate(cv.split(bgc_ids)):\n",
    "    train_ids, val_ids = bgc_ids[id_train], bgc_ids[id_val]\n",
    "    X_train, X_val = X.loc[train_ids].values, X.loc[val_ids].values\n",
    "    y_train, y_val = y.loc[train_ids].values, y.loc[val_ids].values\n",
    "    print('Train:', len(X_train), 'Test:', len(X_val))\n",
    "    \n",
    "    model.fit(X_train, y_train)\n",
    "\n",
    "    y_pred = model.predict(X_val)\n",
    "    y_true = y_val.flatten()\n",
    "    \n",
    "    cm = ConfusionMatrix(actual_vector=y_true, predict_vector=y_pred)\n",
    "   \n",
    "    all_columns = pd.DataFrame(cm.overall_stat).columns\n",
    "    all_ = pd.DataFrame(cm.overall_stat)[1:2].values\n",
    "    all_summary.append(all_[0])\n",
    "    \n",
    "    class_columns = pd.DataFrame(cm.class_stat).columns\n",
    "    class_ = pd.DataFrame(cm.class_stat)[1:2].values\n",
    "    class_summary.append(class_[0])   \n",
    "\n",
    "all_stat = pd.DataFrame(all_summary,columns=[all_columns]).mean()\n",
    "all_stat = all_stat.T\n",
    "class_stat = pd.DataFrame(class_summary,columns=[class_columns]).mean()\n",
    "class_stat = class_stat.T\n",
    "\n",
    "metric = pd.concat([all_stat, class_stat], axis=0)\n",
    "\n",
    "metric.to_csv(\"metric_CSEL.csv\")"
   ]
  },
  {
   "cell_type": "code",
   "execution_count": 5,
   "id": "3aa07794",
   "metadata": {},
   "outputs": [
    {
     "data": {
      "text/plain": [
       "['CSM.joblib.dat']"
      ]
     },
     "execution_count": 5,
     "metadata": {},
     "output_type": "execute_result"
    }
   ],
   "source": [
    "pickle.dump(model, open(\"CSEL.pickle.dat\", \"wb\"))\n",
    "joblib.dump(model, \"CSEL.joblib.dat\")"
   ]
  },
  {
   "cell_type": "code",
   "execution_count": null,
   "id": "66f66998",
   "metadata": {},
   "outputs": [],
   "source": []
  }
 ],
 "metadata": {
  "kernelspec": {
   "display_name": "Python 3 (ipykernel)",
   "language": "python",
   "name": "python3"
  },
  "language_info": {
   "codemirror_mode": {
    "name": "ipython",
    "version": 3
   },
   "file_extension": ".py",
   "mimetype": "text/x-python",
   "name": "python",
   "nbconvert_exporter": "python",
   "pygments_lexer": "ipython3",
   "version": "3.7.9"
  }
 },
 "nbformat": 4,
 "nbformat_minor": 5
}
