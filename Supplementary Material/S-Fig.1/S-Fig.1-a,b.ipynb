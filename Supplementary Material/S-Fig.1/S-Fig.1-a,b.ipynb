{
 "cells": [
  {
   "cell_type": "code",
   "execution_count": 1,
   "id": "70ad762b",
   "metadata": {},
   "outputs": [],
   "source": [
    "import numpy as np\n",
    "import pandas as pd\n",
    "from matplotlib import cm\n",
    "import matplotlib.colors as mcolors"
   ]
  },
  {
   "cell_type": "code",
   "execution_count": 2,
   "id": "ea624d13",
   "metadata": {},
   "outputs": [],
   "source": [
    "import matplotlib.pyplot as plt\n",
    "plt.rcParams[\"font.family\"] = \"Times New Roman\"\n",
    "plt.rcParams['axes.unicode_minus'] = False  "
   ]
  },
  {
   "cell_type": "code",
   "execution_count": 3,
   "id": "eaff98fb",
   "metadata": {},
   "outputs": [
    {
     "data": {
      "text/html": [
       "<div>\n",
       "<style scoped>\n",
       "    .dataframe tbody tr th:only-of-type {\n",
       "        vertical-align: middle;\n",
       "    }\n",
       "\n",
       "    .dataframe tbody tr th {\n",
       "        vertical-align: top;\n",
       "    }\n",
       "\n",
       "    .dataframe thead th {\n",
       "        text-align: right;\n",
       "    }\n",
       "</style>\n",
       "<table border=\"1\" class=\"dataframe\">\n",
       "  <thead>\n",
       "    <tr style=\"text-align: right;\">\n",
       "      <th></th>\n",
       "      <th>Model</th>\n",
       "      <th>SRD values</th>\n",
       "    </tr>\n",
       "  </thead>\n",
       "  <tbody>\n",
       "    <tr>\n",
       "      <th>0</th>\n",
       "      <td>ETs</td>\n",
       "      <td>20.775805</td>\n",
       "    </tr>\n",
       "    <tr>\n",
       "      <th>1</th>\n",
       "      <td>Ridge</td>\n",
       "      <td>22.419461</td>\n",
       "    </tr>\n",
       "    <tr>\n",
       "      <th>2</th>\n",
       "      <td>NuSVC</td>\n",
       "      <td>22.616700</td>\n",
       "    </tr>\n",
       "    <tr>\n",
       "      <th>3</th>\n",
       "      <td>RF</td>\n",
       "      <td>23.471400</td>\n",
       "    </tr>\n",
       "    <tr>\n",
       "      <th>4</th>\n",
       "      <td>Perceptron</td>\n",
       "      <td>27.087442</td>\n",
       "    </tr>\n",
       "    <tr>\n",
       "      <th>5</th>\n",
       "      <td>Bagging</td>\n",
       "      <td>27.613412</td>\n",
       "    </tr>\n",
       "    <tr>\n",
       "      <th>6</th>\n",
       "      <td>LR</td>\n",
       "      <td>27.876397</td>\n",
       "    </tr>\n",
       "    <tr>\n",
       "      <th>7</th>\n",
       "      <td>SVC</td>\n",
       "      <td>28.566732</td>\n",
       "    </tr>\n",
       "    <tr>\n",
       "      <th>8</th>\n",
       "      <td>XGB</td>\n",
       "      <td>28.665352</td>\n",
       "    </tr>\n",
       "    <tr>\n",
       "      <th>9</th>\n",
       "      <td>GBC</td>\n",
       "      <td>29.224195</td>\n",
       "    </tr>\n",
       "    <tr>\n",
       "      <th>10</th>\n",
       "      <td>SGD</td>\n",
       "      <td>29.322814</td>\n",
       "    </tr>\n",
       "    <tr>\n",
       "      <th>11</th>\n",
       "      <td>LinearSVC</td>\n",
       "      <td>29.783037</td>\n",
       "    </tr>\n",
       "    <tr>\n",
       "      <th>12</th>\n",
       "      <td>Ada</td>\n",
       "      <td>30.177515</td>\n",
       "    </tr>\n",
       "    <tr>\n",
       "      <th>13</th>\n",
       "      <td>BNB</td>\n",
       "      <td>30.473373</td>\n",
       "    </tr>\n",
       "    <tr>\n",
       "      <th>14</th>\n",
       "      <td>PA</td>\n",
       "      <td>30.703485</td>\n",
       "    </tr>\n",
       "    <tr>\n",
       "      <th>15</th>\n",
       "      <td>LDA</td>\n",
       "      <td>30.769231</td>\n",
       "    </tr>\n",
       "    <tr>\n",
       "      <th>16</th>\n",
       "      <td>DT</td>\n",
       "      <td>33.859303</td>\n",
       "    </tr>\n",
       "    <tr>\n",
       "      <th>17</th>\n",
       "      <td>ET</td>\n",
       "      <td>34.188034</td>\n",
       "    </tr>\n",
       "    <tr>\n",
       "      <th>18</th>\n",
       "      <td>GP</td>\n",
       "      <td>35.765943</td>\n",
       "    </tr>\n",
       "    <tr>\n",
       "      <th>19</th>\n",
       "      <td>GNB</td>\n",
       "      <td>36.226167</td>\n",
       "    </tr>\n",
       "    <tr>\n",
       "      <th>20</th>\n",
       "      <td>KNN</td>\n",
       "      <td>40.565417</td>\n",
       "    </tr>\n",
       "    <tr>\n",
       "      <th>21</th>\n",
       "      <td>QDA</td>\n",
       "      <td>45.693623</td>\n",
       "    </tr>\n",
       "  </tbody>\n",
       "</table>\n",
       "</div>"
      ],
      "text/plain": [
       "         Model  SRD values\n",
       "0          ETs   20.775805\n",
       "1        Ridge   22.419461\n",
       "2        NuSVC   22.616700\n",
       "3           RF   23.471400\n",
       "4   Perceptron   27.087442\n",
       "5      Bagging   27.613412\n",
       "6           LR   27.876397\n",
       "7          SVC   28.566732\n",
       "8          XGB   28.665352\n",
       "9          GBC   29.224195\n",
       "10         SGD   29.322814\n",
       "11   LinearSVC   29.783037\n",
       "12         Ada   30.177515\n",
       "13         BNB   30.473373\n",
       "14          PA   30.703485\n",
       "15         LDA   30.769231\n",
       "16          DT   33.859303\n",
       "17          ET   34.188034\n",
       "18          GP   35.765943\n",
       "19         GNB   36.226167\n",
       "20         KNN   40.565417\n",
       "21         QDA   45.693623"
      ]
     },
     "execution_count": 3,
     "metadata": {},
     "output_type": "execute_result"
    }
   ],
   "source": [
    "srd_ml = pd.read_csv(\"srd_ml.csv\")\n",
    "srd_ml"
   ]
  },
  {
   "cell_type": "code",
   "execution_count": 4,
   "id": "983faee2",
   "metadata": {},
   "outputs": [],
   "source": [
    "x = srd_ml[\"Model\"]\n",
    "y = srd_ml[\"SRD values\"]"
   ]
  },
  {
   "cell_type": "code",
   "execution_count": 5,
   "id": "114d2589",
   "metadata": {},
   "outputs": [],
   "source": [
    "norm = mcolors.Normalize()\n",
    "norm_y = norm(y)\n",
    "map_vir = cm.get_cmap(name='spring')\n",
    "colors = map_vir(norm_y)"
   ]
  },
  {
   "cell_type": "code",
   "execution_count": 15,
   "id": "f15b5275",
   "metadata": {},
   "outputs": [
    {
     "data": {
      "image/png": "[encoded data removed]",
      "text/plain": [
       "<Figure size 720x360 with 1 Axes>"
      ]
     },
     "metadata": {
      "needs_background": "light"
     },
     "output_type": "display_data"
    }
   ],
   "source": [
    "fig, ax = plt.subplots(figsize=(10,5))\n",
    "\n",
    "bar = ax.bar(x, y,width=0.5,color=colors)\n",
    "\n",
    "for bar in bar:\n",
    "    height = bar.get_height()\n",
    "    height_ = \"%.2f\" % height\n",
    "    ax.text(bar.get_x()+ bar.get_width()/2,height+0.8,height_,ha='center')\n",
    "\n",
    "ax.set_ylim(bottom=0,top=50)\n",
    "ax.tick_params(labelsize=15)\n",
    "#ax.set_xlabel('MODEL',size=20,labelpad=15)\n",
    "ax.set_ylabel('SRD(%)',size=20,labelpad=15)\n",
    "#ax.set_title('SRD values',size=20,pad=20)\n",
    "\n",
    "plt.xticks(rotation=45)\n",
    "\n",
    "fig.tight_layout()\n",
    "\n",
    "plt.savefig('Fig2-B.pdf', bbox_inches='tight')\n",
    "plt.show()"
   ]
  },
  {
   "cell_type": "code",
   "execution_count": 7,
   "id": "be98696e",
   "metadata": {},
   "outputs": [
    {
     "data": {
      "text/html": [
       "<div>\n",
       "<style scoped>\n",
       "    .dataframe tbody tr th:only-of-type {\n",
       "        vertical-align: middle;\n",
       "    }\n",
       "\n",
       "    .dataframe tbody tr th {\n",
       "        vertical-align: top;\n",
       "    }\n",
       "\n",
       "    .dataframe thead th {\n",
       "        text-align: right;\n",
       "    }\n",
       "</style>\n",
       "<table border=\"1\" class=\"dataframe\">\n",
       "  <thead>\n",
       "    <tr style=\"text-align: right;\">\n",
       "      <th></th>\n",
       "      <th>Model</th>\n",
       "      <th>SRD values</th>\n",
       "    </tr>\n",
       "  </thead>\n",
       "  <tbody>\n",
       "    <tr>\n",
       "      <th>0</th>\n",
       "      <td>CSEL</td>\n",
       "      <td>8.021039</td>\n",
       "    </tr>\n",
       "    <tr>\n",
       "      <th>1</th>\n",
       "      <td>Stacking_Ridge</td>\n",
       "      <td>20.052597</td>\n",
       "    </tr>\n",
       "    <tr>\n",
       "      <th>2</th>\n",
       "      <td>Stacking_NuSVC</td>\n",
       "      <td>20.775805</td>\n",
       "    </tr>\n",
       "    <tr>\n",
       "      <th>3</th>\n",
       "      <td>Stacking_RF</td>\n",
       "      <td>21.236029</td>\n",
       "    </tr>\n",
       "    <tr>\n",
       "      <th>4</th>\n",
       "      <td>Stacking_ETs</td>\n",
       "      <td>21.893491</td>\n",
       "    </tr>\n",
       "    <tr>\n",
       "      <th>5</th>\n",
       "      <td>Stacking_LR</td>\n",
       "      <td>22.419461</td>\n",
       "    </tr>\n",
       "    <tr>\n",
       "      <th>6</th>\n",
       "      <td>DF</td>\n",
       "      <td>24.457594</td>\n",
       "    </tr>\n",
       "  </tbody>\n",
       "</table>\n",
       "</div>"
      ],
      "text/plain": [
       "            Model  SRD values\n",
       "0            CSEL    8.021039\n",
       "1  Stacking_Ridge   20.052597\n",
       "2  Stacking_NuSVC   20.775805\n",
       "3     Stacking_RF   21.236029\n",
       "4    Stacking_ETs   21.893491\n",
       "5     Stacking_LR   22.419461\n",
       "6              DF   24.457594"
      ]
     },
     "execution_count": 7,
     "metadata": {},
     "output_type": "execute_result"
    }
   ],
   "source": [
    "srd_el = pd.read_csv(\"srd_el.csv\")\n",
    "srd_el"
   ]
  },
  {
   "cell_type": "code",
   "execution_count": 8,
   "id": "d673fb77",
   "metadata": {},
   "outputs": [],
   "source": [
    "x_ = srd_el[\"Model\"]\n",
    "y_ = srd_el[\"SRD values\"]"
   ]
  },
  {
   "cell_type": "code",
   "execution_count": 9,
   "id": "21567798",
   "metadata": {},
   "outputs": [],
   "source": [
    "norm = mcolors.Normalize()\n",
    "norm_y_ = norm(y_)\n",
    "map_vir_ = cm.get_cmap(name='winter')\n",
    "colors_ = map_vir_(norm_y_)"
   ]
  },
  {
   "cell_type": "code",
   "execution_count": 16,
   "id": "dee250f5",
   "metadata": {},
   "outputs": [
    {
     "data": {
      "image/png": "[encoded data removed]",
      "text/plain": [
       "<Figure size 504x360 with 1 Axes>"
      ]
     },
     "metadata": {
      "needs_background": "light"
     },
     "output_type": "display_data"
    }
   ],
   "source": [
    "fig, ax = plt.subplots(figsize=(7,5))\n",
    "\n",
    "bar = ax.bar(x_, y_,width=0.5,color=colors_)\n",
    "\n",
    "for bar in bar:\n",
    "    height = bar.get_height()\n",
    "    height_ = \"%.2f\" % height\n",
    "    ax.text(bar.get_x()+ bar.get_width()/2,height+0.8,height_,ha='center')\n",
    "\n",
    "ax.set_ylim(bottom=0,top=30)\n",
    "ax.tick_params(labelsize=15)\n",
    "#ax.set_xlabel('MODEL',size=20,labelpad=15)\n",
    "ax.set_ylabel('SRD(%)',size=20,labelpad=15)\n",
    "#ax.set_title('SRD values',size=20,pad=20)\n",
    "\n",
    "plt.xticks(rotation=15)\n",
    "\n",
    "fig.tight_layout()\n",
    "\n",
    "plt.savefig('Fig2-C.pdf', bbox_inches='tight')\n",
    "plt.show()"
   ]
  },
  {
   "cell_type": "code",
   "execution_count": null,
   "id": "9d0e3eb4",
   "metadata": {},
   "outputs": [],
   "source": []
  }
 ],
 "metadata": {
  "kernelspec": {
   "display_name": "Python 3.7",
   "language": "python",
   "name": "python3"
  },
  "language_info": {
   "codemirror_mode": {
    "name": "ipython",
    "version": 3
   },
   "file_extension": ".py",
   "mimetype": "text/x-python",
   "name": "python",
   "nbconvert_exporter": "python",
   "pygments_lexer": "ipython3",
   "version": "3.7.9"
  }
 },
 "nbformat": 4,
 "nbformat_minor": 5
}
