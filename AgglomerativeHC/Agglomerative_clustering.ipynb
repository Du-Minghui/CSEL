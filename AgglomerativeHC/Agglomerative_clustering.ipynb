{
 "cells": [
  {
   "cell_type": "code",
   "execution_count": 1,
   "id": "92bcc194",
   "metadata": {},
   "outputs": [],
   "source": [
    "from os import path\n",
    "import pandas as pd\n",
    "import numpy as np\n",
    "from sklearn.cluster import AgglomerativeClustering\n",
    "from matplotlib import pyplot as plt\n",
    "from scipy.cluster.hierarchy import dendrogram\n",
    "from scipy.cluster import hierarchy\n",
    "from ete3 import PhyloTree\n",
    "from scipy.cluster.hierarchy import to_tree\n",
    "from ete3 import Tree"
   ]
  },
  {
   "cell_type": "code",
   "execution_count": 2,
   "id": "f4f94925",
   "metadata": {},
   "outputs": [],
   "source": [
    "gcf_centroids = pd.read_csv(\"GCF_centroids.csv\",index_col= 0)"
   ]
  },
  {
   "cell_type": "code",
   "execution_count": 3,
   "id": "525f931e",
   "metadata": {},
   "outputs": [],
   "source": [
    "zero_root = pd.Series(0, index=gcf_centroids.columns, name='zero')"
   ]
  },
  {
   "cell_type": "code",
   "execution_count": 5,
   "id": "0e1ee50e",
   "metadata": {},
   "outputs": [],
   "source": [
    "_gcf_centroids = gcf_centroids.append(zero_root)"
   ]
  },
  {
   "cell_type": "code",
   "execution_count": 6,
   "id": "55f90ef0",
   "metadata": {},
   "outputs": [],
   "source": [
    "clusterer = AgglomerativeClustering(\n",
    "        n_clusters=None,\n",
    "        distance_threshold=0,\n",
    "        affinity=\"euclidean\",\n",
    "        linkage=\"ward\")"
   ]
  },
  {
   "cell_type": "code",
   "execution_count": 7,
   "id": "0009d593",
   "metadata": {},
   "outputs": [
    {
     "data": {
      "text/plain": [
       "AgglomerativeClustering(distance_threshold=0, n_clusters=None)"
      ]
     },
     "execution_count": 7,
     "metadata": {},
     "output_type": "execute_result"
    }
   ],
   "source": [
    "clusterer.fit(_gcf_centroids)"
   ]
  },
  {
   "cell_type": "code",
   "execution_count": 8,
   "id": "c2a5f47f",
   "metadata": {},
   "outputs": [],
   "source": [
    "def get_linkage_matrix(model, **kwargs):\n",
    "        counts = np.zeros(model.children_.shape[0])\n",
    "        n_samples = len(model.labels_)\n",
    "        for i, merge in enumerate(model.children_):\n",
    "            current_count = 0\n",
    "            for child_idx in merge:\n",
    "                if child_idx < n_samples:\n",
    "                    current_count += 1  \n",
    "                else:\n",
    "                    current_count += counts[child_idx - n_samples]\n",
    "            counts[i] = current_count\n",
    "        linkage_matrix = np.column_stack([model.children_, model.distances_,\n",
    "                                          counts]).astype(float)\n",
    "        return linkage_matrix"
   ]
  },
  {
   "cell_type": "code",
   "execution_count": 9,
   "id": "dc484580",
   "metadata": {},
   "outputs": [
    {
     "data": {
      "text/plain": [
       "array([[ 86.        , 182.        ,   0.        ,   2.        ],\n",
       "       [281.        , 299.        ,   0.        ,   3.        ],\n",
       "       [ 67.        , 253.        ,   0.        ,   2.        ],\n",
       "       ...,\n",
       "       [437.        , 593.        ,  15.32535848, 231.        ],\n",
       "       [533.        , 594.        ,  16.28024106, 237.        ],\n",
       "       [592.        , 595.        ,  21.33559059, 299.        ]])"
      ]
     },
     "execution_count": 9,
     "metadata": {},
     "output_type": "execute_result"
    }
   ],
   "source": [
    "get_linkage_matrix(clusterer)"
   ]
  },
  {
   "cell_type": "code",
   "execution_count": 10,
   "id": "959b52b3",
   "metadata": {},
   "outputs": [],
   "source": [
    "scipy_tree = hierarchy.to_tree(get_linkage_matrix(clusterer), False)"
   ]
  },
  {
   "cell_type": "code",
   "execution_count": 11,
   "id": "010d85b1",
   "metadata": {},
   "outputs": [],
   "source": [
    "def getNewick(node, newick, parentdist, leaf_names):\n",
    "        if node.is_leaf():\n",
    "            return \"%s:%.2f%s\" % (leaf_names[node.id], parentdist - node.dist, newick)\n",
    "        else:\n",
    "            if len(newick) > 0:\n",
    "                newick = \"):%.2f%s\" % (parentdist - node.dist, newick)\n",
    "            else:\n",
    "                newick = \");\"\n",
    "            newick = getNewick(node.get_left(), newick, node.dist, leaf_names)\n",
    "            newick = getNewick(node.get_right(), \",%s\" % (newick), node.dist, leaf_names)\n",
    "            newick = \"(%s\" % (newick)\n",
    "            return newick"
   ]
  },
  {
   "cell_type": "code",
   "execution_count": 12,
   "id": "834ea17c",
   "metadata": {},
   "outputs": [],
   "source": [
    "ete_tree = PhyloTree(getNewick(scipy_tree, \"\", scipy_tree.dist,_gcf_centroids.index.values))"
   ]
  },
  {
   "cell_type": "code",
   "execution_count": 13,
   "id": "dcbe1fbe",
   "metadata": {},
   "outputs": [],
   "source": [
    "ete_tree.set_outgroup('zero')"
   ]
  },
  {
   "cell_type": "code",
   "execution_count": 14,
   "id": "d0aee6e6",
   "metadata": {},
   "outputs": [],
   "source": [
    "with open(\"ete_tree.newick\", \"w\") as newick:\n",
    "    newick.write(ete_tree.write())"
   ]
  },
  {
   "cell_type": "code",
   "execution_count": null,
   "id": "b4d79205",
   "metadata": {},
   "outputs": [],
   "source": []
  }
 ],
 "metadata": {
  "kernelspec": {
   "display_name": "Python 3.7",
   "language": "python",
   "name": "python3"
  },
  "language_info": {
   "codemirror_mode": {
    "name": "ipython",
    "version": 3
   },
   "file_extension": ".py",
   "mimetype": "text/x-python",
   "name": "python",
   "nbconvert_exporter": "python",
   "pygments_lexer": "ipython3",
   "version": "3.7.9"
  }
 },
 "nbformat": 4,
 "nbformat_minor": 5
}
